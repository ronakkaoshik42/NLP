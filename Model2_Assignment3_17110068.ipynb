{
 "cells": [
  {
   "cell_type": "code",
   "execution_count": 232,
   "metadata": {},
   "outputs": [],
   "source": [
    "f = open(\"test.txt\", \"r\")\n",
    "#f = open(\"test.txt\", \"r\")\n",
    "l=f.readlines()"
   ]
  },
  {
   "cell_type": "markdown",
   "metadata": {},
   "source": [
    "# Pre-processing (Data-cleaning)"
   ]
  },
  {
   "cell_type": "code",
   "execution_count": 233,
   "metadata": {},
   "outputs": [
    {
     "name": "stdout",
     "output_type": "stream",
     "text": [
      "['meta\\t8\\tneutral\\n', 'RT\\tEng\\n', '@\\tO\\n', 'UAAPconfessions\\tEng\\n', 'Love\\tEng\\n', 'looks\\tEng\\n', 'good\\tEng\\n', 'on\\tEng\\n', 'Maddie\\tEng\\n', '!!!\\tO\\n', 'Ako\\tEng\\n', 'lang\\tEng\\n', 'ba\\tEng\\n', 'yung\\tEng\\n', 'sobrang\\tEng\\n', 'masaya\\tHin\\n', 'kasi\\tHin\\n', 'may\\tHin\\n', 'zolo\\tEng\\n', 'sya\\tEng\\n', '?\\tO\\n', 'Before\\tEng\\n', 'with\\tEng\\n', 'the\\tEng\\n', 'past\\tEng\\n', 'Z\\tHin\\n', 'medyo\\tEng\\n', 'lowkey\\tEng\\n', 's\\tEng\\n', '…\\tO\\n', '\\n', 'meta\\t12\\tneutral\\n', 'Ye\\tHin\\n', 'Ye\\tHin\\n', '.....\\tO\\n', 'ye\\tHin\\n', '???????\\tO\\n', 'We\\tHin\\n', 'gonna\\tHin\\n', 'start\\tEng\\n', 'another\\tEng\\n', 'June\\tEng\\n', 'on\\tEng\\n', 'a\\tEng\\n', 'sour\\tEng\\n', 'note\\tEng\\n', '?\\tO\\n', 'Uhhhh\\tHin\\n', 'yes\\tHin\\n', 'no\\tEng\\n', 'yes\\tHin\\n', '......\\tO\\n', 'no\\tEng\\n', '(\\tO\\n', 'yes\\tHin\\n', ')\\tO\\n', '\\n', 'meta\\t14\\tneutral\\n', '@\\tO\\n', 'zWffFY9JGklElA1\\tEng\\n', '@\\tO\\n', 'Min\\tEng\\n', '_\\tO\\n', 'Of\\tHin\\n', '_\\tO\\n', 'Lyching\\tEng\\n', '@\\tO\\n', 'thakurdadu089\\tEng\\n', '@\\tO\\n', 'manakgupta\\tEng\\n', '@\\tO\\n', 'OfficeOfKNath\\tHin\\n', 'Mein\\tHin\\n', 'kahna\\tHin\\n', 'nae\\tHin\\n', 'chahta\\tHin\\n', 'qki\\tHin\\n', 'mere\\tHin\\n', 'Yaha\\tHin\\n', 'btay\\tHin\\n', '…\\tO\\n', 'https\\tEng\\n', '//\\tO\\n', 'tco\\tEng\\n', '/\\tO\\n', 'JWSdvvomt8\\tEng\\n', '\\n', 'meta\\t23\\tnegative\\n', '~\\tO\\n', 'Caring\\tEng\\n', '.\\tO\\n', '~\\tO\\n', 'Bohot\\tHin\\n', 'Jyada\\tHin\\n', 'Caring\\tEng\\n', '.\\tO\\n', '~\\tO\\n', 'Courier\\tEng\\n', 'wale\\tEng\\n', 'bsdk\\tHin\\n']\n"
     ]
    }
   ],
   "source": [
    "import re\n",
    "print(l[:100])"
   ]
  },
  {
   "cell_type": "code",
   "execution_count": 234,
   "metadata": {},
   "outputs": [],
   "source": [
    "s=''\n",
    "for i in l:\n",
    "    s=s+i\n",
    "a=s.split('meta')"
   ]
  },
  {
   "cell_type": "code",
   "execution_count": 237,
   "metadata": {},
   "outputs": [],
   "source": [
    "a=a[1:]"
   ]
  },
  {
   "cell_type": "code",
   "execution_count": 238,
   "metadata": {},
   "outputs": [
    {
     "name": "stdout",
     "output_type": "stream",
     "text": [
      "[['\\t12\\tneutral', 'Ye\\tHin', 'Ye\\tHin', '.....\\tO', 'ye\\tHin', '???????\\tO', 'We\\tHin', 'gonna\\tHin', 'start\\tEng', 'another\\tEng', 'June\\tEng', 'on\\tEng', 'a\\tEng', 'sour\\tEng', 'note\\tEng', '?\\tO', 'Uhhhh\\tHin', 'yes\\tHin', 'no\\tEng', 'yes\\tHin', '......\\tO', 'no\\tEng', '(\\tO', 'yes\\tHin', ')\\tO'], ['\\t14\\tneutral', '@\\tO', 'zWffFY9JGklElA1\\tEng', '@\\tO', 'Min\\tEng', '_\\tO', 'Of\\tHin', '_\\tO', 'Lyching\\tEng', '@\\tO', 'thakurdadu089\\tEng', '@\\tO', 'manakgupta\\tEng', '@\\tO', 'OfficeOfKNath\\tHin', 'Mein\\tHin', 'kahna\\tHin', 'nae\\tHin', 'chahta\\tHin', 'qki\\tHin', 'mere\\tHin', 'Yaha\\tHin', 'btay\\tHin', '…\\tO', 'https\\tEng', '//\\tO', 'tco\\tEng', '/\\tO', 'JWSdvvomt8\\tEng'], ['\\t23\\tnegative', '~\\tO', 'Caring\\tEng', '.\\tO', '~\\tO', 'Bohot\\tHin', 'Jyada\\tHin', 'Caring\\tEng', '.\\tO', '~\\tO', 'Courier\\tEng', 'wale\\tEng', 'bsdk\\tHin', 'ke\\tHin', 'sign\\tHin', 'bhi\\tHin', 'khud\\tHin', 'hi\\tHin', 'krlete\\tHin', 'h\\tHin', 'mera\\tHin', '.\\tO']]\n"
     ]
    }
   ],
   "source": [
    "processed_1=[]\n",
    "for i in range(len(a)):\n",
    "    sen=a[i].split('\\n')\n",
    "    temp=[]\n",
    "    for j in range(len(sen)):\n",
    "        if sen[j]!='':\n",
    "            temp.append(sen[j])\n",
    "    processed_1.append(temp)\n",
    "print(processed_1[:3])"
   ]
  },
  {
   "cell_type": "code",
   "execution_count": 239,
   "metadata": {},
   "outputs": [
    {
     "name": "stdout",
     "output_type": "stream",
     "text": [
      "[[['', '12', 'neutral'], ['Ye', 'Hin'], ['Ye', 'Hin'], ['.....', 'O'], ['ye', 'Hin'], ['???????', 'O'], ['We', 'Hin'], ['gonna', 'Hin'], ['start', 'Eng'], ['another', 'Eng'], ['June', 'Eng'], ['on', 'Eng'], ['a', 'Eng'], ['sour', 'Eng'], ['note', 'Eng'], ['?', 'O'], ['Uhhhh', 'Hin'], ['yes', 'Hin'], ['no', 'Eng'], ['yes', 'Hin'], ['......', 'O'], ['no', 'Eng'], ['(', 'O'], ['yes', 'Hin'], [')', 'O']], [['', '14', 'neutral'], ['@', 'O'], ['zWffFY9JGklElA1', 'Eng'], ['@', 'O'], ['Min', 'Eng'], ['_', 'O'], ['Of', 'Hin'], ['_', 'O'], ['Lyching', 'Eng'], ['@', 'O'], ['thakurdadu089', 'Eng'], ['@', 'O'], ['manakgupta', 'Eng'], ['@', 'O'], ['OfficeOfKNath', 'Hin'], ['Mein', 'Hin'], ['kahna', 'Hin'], ['nae', 'Hin'], ['chahta', 'Hin'], ['qki', 'Hin'], ['mere', 'Hin'], ['Yaha', 'Hin'], ['btay', 'Hin'], ['…', 'O'], ['https', 'Eng'], ['//', 'O'], ['tco', 'Eng'], ['/', 'O'], ['JWSdvvomt8', 'Eng']], [['', '23', 'negative'], ['~', 'O'], ['Caring', 'Eng'], ['.', 'O'], ['~', 'O'], ['Bohot', 'Hin'], ['Jyada', 'Hin'], ['Caring', 'Eng'], ['.', 'O'], ['~', 'O'], ['Courier', 'Eng'], ['wale', 'Eng'], ['bsdk', 'Hin'], ['ke', 'Hin'], ['sign', 'Hin'], ['bhi', 'Hin'], ['khud', 'Hin'], ['hi', 'Hin'], ['krlete', 'Hin'], ['h', 'Hin'], ['mera', 'Hin'], ['.', 'O']], [['', '24', 'positive'], ['@', 'O'], ['AliHZaidiPTI', 'Hin'], ['@', 'O'], ['SarfarazA', 'Hin'], ['_', 'O'], ['54', 'O'], ['What', 'Hin'], ['nonesense', 'Eng'], ['...', 'O'], ['Kabhi', 'Hin'], ['baymani', 'Hin'], ['per', 'Eng'], ['bani', 'Hin'], ['team', 'Eng'], ['kamiyab', 'Hin'], ['nahi', 'Hin'], ['ho', 'Hin'], ['sakti', 'Hin'], ['...', 'O'], ['Jo', 'Hin'], ['log', 'Hin'], ['apnay', 'Hin'], ['liy', 'Hin'], ['…', 'O'], ['https', 'Eng'], ['//', 'O'], ['t', 'Eng'], ['.', 'O'], ['co', 'Eng'], ['/', 'O'], ['al1WFCUTYy', 'Eng']], [['', '26', 'positive'], ['@', 'O'], ['imVkohli', 'Eng'], ['Best', 'Eng'], ['of', 'Eng'], ['luck', 'Eng'], ['@', 'O'], ['imVkohli', 'Hin'], ['sir', 'Hin'], ['World', 'Eng'], ['Cup', 'Hin'], ['ke', 'Hin'], ['liye', 'Hin'], ['bhot', 'Hin'], ['bhot', 'Hin'], ['subhkamnaye', 'Hin']], [['', '27', 'positive'], ['Yes', 'Hin'], ['.', 'O'], ['Great', 'Eng'], ['dialogues', 'Eng'], ['in', 'Eng'], ['that', 'Eng'], ['one', 'Eng'], ['.', 'O'], ['Also', 'Hin'], ['Chupke', 'Hin'], ['Chupke', 'Hin'], ['over', 'Hin'], ['Chhaddabeshi', 'Hin'], ['.', 'O'], ['All', 'Eng'], ['except', 'Eng'], ['R', 'Eng'], ['.', 'O'], ['G', 'Eng'], ['.', 'O'], ['V', 'Eng'], ['.', 'O'], ['Ke', 'Hin'], ['Sholay', 'Hin'], ['-)', 'O'], ['https', 'Eng'], ['//', 'O'], ['t', 'Eng'], ['.', 'O'], ['co', 'Eng'], ['/', 'O'], ['MHCBkX0SnG', 'Eng']], [['', '38', 'negative'], ['@', 'O'], ['mangeshkarlata', 'Hin'], ['Desh', 'Hin'], ['bhakti', 'Hin'], ['baat', 'Hin'], ['wahi', 'Hin'], ['samajh', 'Hin'], ['sakte', 'Hin'], ['hai', 'Hin'], ['jo', 'Hin'], ['khud', 'Hin'], ['deshbhakt', 'Hin'], ['Wo', 'Hin'], ['log', 'Hin'], ['to', 'Hin'], ['sirf', 'Hin'], ['Bharat', 'Hin'], ['tere', 'Hin'], ['tukde', 'Hin'], ['hong', 'Hin'], ['…', 'O'], ['https', 'Eng'], ['//', 'O'], ['t', 'Eng'], ['co', 'Eng'], ['/', 'O'], ['rMdZSiwSGT', 'Eng']], [['', '45', 'positive'], ['Pakistani', 'Eng'], ['team', 'Eng'], ['ne', 'Eng'], ['105', 'O'], ['%', 'O'], ['effort', 'Eng'], ['ki', 'Hin'], ['Aagey', 'Hin'], ['Allah', 'Hin'], ['ki', 'Hin'], ['marziiiiiiiiiiiii', 'Hin'], ['😩😫😖😣\\U0001f97a', 'O'], ['#', 'O'], ['PAKvWI', 'Hin'], ['#', 'O'], ['WIvPAK', 'Eng'], ['#', 'O'], ['CWC19', 'Eng'], ['#', 'O'], ['WeHaveWeWill', 'Eng']], [['', '56', 'negative'], ['@', 'O'], ['Hussain', 'Hin'], ['_', 'O'], ['NSharif', 'Hin'], ['@', 'O'], ['MaryamNSharif', 'Hin'], ['Kiya', 'Hin'], ['tum', 'Hin'], ['apne', 'Hin'], ['baap', 'Hin'], ['ki', 'Hin'], ['oulad', 'Hin'], ['nahi', 'Hin'], ['.??', 'O'], ['Kyun', 'Hin'], ['usy', 'Hin'], ['bay', 'Hin'], ['yaro', 'Hin'], ['madadgar', 'Hin'], ['chora', 'Hin'], ['hua', 'Hin'], ['.', 'O'], ['Kiya', 'Hin'], ['wo', 'Hin'], ['t', 'Eng'], ['…', 'O'], ['https', 'Eng'], ['//', 'O'], ['t', 'Eng'], ['.', 'O'], ['co', 'Eng'], ['/', 'O'], ['E1mrLMGH5c', 'Eng']], [['', '59', 'neutral'], ['@', 'O'], ['TheVijayMallya', 'Hin'], ['@', 'O'], ['YouTube', 'Eng'], ['Are', 'Hin'], ['Tu', 'Hin'], ['aa', 'Hin'], ['rha', 'Hin'], ['h', 'Hin'], ['ki', 'Hin'], ['nhi', 'Hin'], ['Wo', 'Hin'], ['modi', 'Hin'], ['phir', 'Hin'], ['se', 'Hin'], ['PM', 'Eng'], ['ban', 'Eng'], ['gya', 'Hin'], ['Chupchaap', 'Hin'], ['aaja', 'Hin'], ['sidha', 'Hin'], ['sidha', 'Hin'], ['Vrna', 'Hin'], ['mo', 'Eng'], ['…', 'O'], ['https', 'Eng'], ['//', 'O'], ['t', 'Eng'], ['co', 'Hin'], ['/', 'O'], ['iQbN2nsr2S', 'Hin']]]\n"
     ]
    }
   ],
   "source": [
    "processed_2=[]\n",
    "for i in processed_1:\n",
    "    temp=[]\n",
    "    for j in range(len(i)):\n",
    "        temp.append(i[j].split('\\t'))\n",
    "    processed_2.append(temp)\n",
    "print(processed_2[:10])"
   ]
  },
  {
   "cell_type": "code",
   "execution_count": 240,
   "metadata": {},
   "outputs": [
    {
     "name": "stdout",
     "output_type": "stream",
     "text": [
      "['Ye', 'Hin']\n"
     ]
    }
   ],
   "source": [
    "processed_3=[]\n",
    "for i in processed_2:\n",
    "    processed_3.append([i[1:],i[0][-1]])\n",
    "print(processed_3[0][0][0])"
   ]
  },
  {
   "cell_type": "code",
   "execution_count": 241,
   "metadata": {},
   "outputs": [],
   "source": [
    "processed_4=[]\n",
    "for i in processed_3:\n",
    "    temp=[]\n",
    "    j=0\n",
    "    while j<len(i[0]):\n",
    "        if i[0][j][0]=='@':\n",
    "            j=j+2\n",
    "        elif i[0][j][1]=='O' or i[0][j][1]=='EMT' or i[0][j][0]=='#':\n",
    "            j=j+1\n",
    "        elif len(i[0][j][0])>3 and i[0][j][0][:4]=='http':\n",
    "            break\n",
    "        else:\n",
    "            temp.append(i[0][j])\n",
    "            j=j+1\n",
    "    if temp==[]:\n",
    "        j=0\n",
    "        while j<len(i[0]):\n",
    "            if i[0][j][0]=='@':\n",
    "                j=j+2\n",
    "            elif i[0][j][1]=='O' or i[0][j][1]=='EMT' or i[0][j][0]=='#':\n",
    "                j=j+1\n",
    "            elif len(i[0][j][0])>3 and i[0][j][0][:4]=='http':\n",
    "                while len(i[0][j][0])>1 and (i[0][j][0][-2]+i[0][j][0][-1])!='co':\n",
    "                    j=j+1\n",
    "                j=j+3\n",
    "            else:\n",
    "                temp.append(i[0][j])\n",
    "                j=j+1\n",
    "    if temp==[]:\n",
    "        temp.append(['none','Eng'])\n",
    "    processed_4.append([temp,i[1]])"
   ]
  },
  {
   "cell_type": "code",
   "execution_count": 242,
   "metadata": {
    "scrolled": false
   },
   "outputs": [
    {
     "name": "stdout",
     "output_type": "stream",
     "text": [
      "[[[['na88', 'Eng'], ['Loru', 'Eng'], ['singh', 'Hin'], ['tera', 'Hin'], ['bap', 'Hin'], ['jo', 'Hin'], ['brt', 'Eng'], ['peshawer', 'Hin'], ['par', 'Hin'], ['laga', 'Hin'], ['raha', 'Hin'], ['hai', 'Hin'], ['vo', 'Hin'], ['teri', 'Hin'], ['maa', 'Hin'], ['k', 'Hin'], ['phudday', 'Hin'], ['ki', 'Hin'], ['kamayi', 'Hin'], ['hai', 'Hin'], ['ya', 'Hin'], ['baap', 'Hin'], ['ki', 'Hin'], ['gand', 'Hin'], ['ki', 'Hin']], 'negative'], [[['It', 'Eng'], ['means', 'Eng'], ['sidhi', 'Hin'], ['sadhi', 'Hin'], ['ladki', 'Hin'], ['best', 'Eng'], ['couple', 'Eng']], 'positive'], [[['NoTobaccoDay', 'Hin'], ['Tambaku', 'Eng'], ['par', 'Hin'], ['chetavni', 'Hin'], ['likhi', 'Hin'], ['hoti', 'Hin'], ['hai', 'Hin'], ['hi', 'Hin'], ['ki', 'Hin'], ['ise', 'Hin'], ['khane', 'Hin'], ['se', 'Hin'], ['cancer', 'Eng'], ['Hota', 'Hin'], ['Hai', 'Hin'], ['lekin', 'Hin'], ['Sarkar', 'Hin'], ['eyes', 'Hin'], ['band', 'Hin'], ['karane', 'Hin']], 'negative'], [[['RT', 'Hin'], ['The', 'Hin'], ['only', 'Eng'], ['thing', 'Eng'], ['that', 'Eng'], ['i', 'Hin'], ['want', 'Eng'], ['in', 'Eng'], ['my', 'Eng'], ['life', 'Hin'], ['is', 'Eng'], ['to', 'Eng'], ['see', 'Eng'], ['you', 'Eng'], ['happy', 'Eng'], ['and', 'Eng'], ['always', 'Eng'], ['smile', 'Eng'], ['Love', 'Hin'], ['you', 'Hin'], ['to', 'Eng'], ['the', 'Eng'], ['moon', 'Eng'], ['and', 'Eng'], ['back', 'Eng'], ['J', 'Eng'], ['repost', 'Eng'], ['cuz', 'Eng'], ['i', 'Hin']], 'positive'], [[['RT', 'Eng'], ['Bilal', 'Eng'], ['yeh', 'Hin'], ['sab', 'Hin'], ['mujhpr', 'Hin'], ['rely', 'Hin'], ['kar', 'Hin'], ['rahe', 'Hin'], ['hai', 'Hin'], ['D', 'Hin'], ['fahad', 'Hin'], ['Abb', 'Hin'], ['toh', 'Hin'], ['saari', 'Hin'], ['industry', 'Eng'], ['tumpr', 'Hin'], ['rely', 'Hin'], ['karegi', 'Hin'], ['beta', 'Hin'], ['our', 'Hin'], ['boy', 'Eng'], ['making', 'Eng'], ['us', 'Eng']], 'negative'], [[['RT', 'Eng'], ['GRAB', 'Eng'], ['A', 'Hin'], ['COPY', 'Eng'], ['OF', 'Hin'], ['MY', 'Hin'], ['CRITICALLY', 'Eng'], ['ACCLAIMED', 'Eng'], ['BEST', 'Eng'], ['SELLER', 'Eng'], ['HISTORY', 'Eng'], ['OF', 'Hin'], ['THE', 'Hin'], ['DEEP', 'Hin'], ['STATE', 'Hin'], ['Ebook', 'Eng'], ['format', 'Eng'], ['i', 'Eng']], 'positive'], [[['RT', 'Eng'], ['Zeeshan09', 'Eng'], ['Handsome', 'Eng'], ['Hunk', 'Eng'], ['Bhaijaan', 'Hin'], ['Masha', 'Hin'], ['Allah', 'Hin'], ['Zabardast', 'Eng'], ['Fantastic', 'Eng'], ['Mind', 'Eng'], ['Blowing', 'Hin'], ['Awesome', 'Hin'], ['Bhaijan', 'Hin'], ['Bh', 'Hin']], 'positive'], [[['RT', 'Eng'], ['Bin', 'Eng'], ['tere', 'Hin'], ['bin', 'Hin'], ['tere', 'Hin'], ['bin', 'Hin'], ['tere', 'Hin'], ['koi', 'Hin'], ['kharish', 'Hin'], ['h', 'Hin'], ['hawaon', 'Hin'], ['mein', 'Hin'], ['bin', 'Hin'], ['tere', 'Hin'], ['Please', 'Hin'], ['bring', 'Eng'], ['them', 'Eng'], ['back', 'Eng'], ['together', 'Eng']], 'neutral'], [[['Narendra', 'Eng'], ['Modi', 'Hin'], ['Ji', 'Hin'], ['Badhayi', 'Hin'], ['Ho', 'Hin'], ['Varanasi', 'Hin'], ['ka', 'Hin'], ['niwasi', 'Hin'], ['hu', 'Hin'], ['Aur', 'Hin'], ['Hamare', 'Hin'], ['ilake', 'Hin'], ['ka', 'Hin'], ['ek', 'Hin'], ['sadak', 'Hin'], ['Kafi', 'Hin'], ['din', 'Hin'], ['se', 'Hin'], ['nahi', 'Hin'], ['ban', 'Hin'], ['Raha', 'Hin'], ['hai', 'Hin'], ['kr', 'Eng']], 'neutral'], [[['RT', 'Eng'], ['soch', 'Hin'], ['raha', 'Hin'], ['hu', 'Hin'], ['is', 'Hin'], ['baar', 'Hin'], ['uski', 'Hin'], ['birthday', 'Hin'], ['par', 'Eng'], ['gift', 'Eng'], ['me', 'Hin'], ['ek', 'Eng'], ['plastic', 'Eng'], ['ka', 'Hin'], ['dil', 'Hin'], ['de', 'Hin'], ['du', 'Hin'], ['usse', 'Hin'], ['khelti', 'Hin'], ['bhi', 'Hin'], ['rahegi', 'Hin'], ['aur', 'Hin'], ['tootega', 'Hin'], ['bhi', 'Hin'], ['nahi', 'Hin']], 'negative'], [[['aziz', 'Eng'], ['Congress', 'Hin'], ['ne', 'Hin'], ['ye', 'Hin'], ['nirnay', 'Hin'], ['liya', 'Hin'], ['hai', 'Hin'], ['ki', 'Hin'], ['anchor', 'Hin'], ['agar', 'Hin'], ['insaan', 'Hin'], ['ho', 'Hin'], ['to', 'Hin'], ['jae', 'Hin'], ['Bhokne', 'Hin'], ['wale', 'Hin'], ['kutte', 'Hin'], ['ho', 'Hin'], ['jaise', 'Hin'], ['ki', 'Hin'], ['Amish', 'Hin'], ['sad', 'Eng']], 'negative'], [[['Time', 'Hin'], ['main', 'Hin'], ['aya', 'Hin'], ['tha', 'Hin'], ['tm', 'Eng'], ['pubg', 'Hin'], ['khel', 'Hin'], ['ri', 'Hin'], ['the', 'Eng']], 'neutral'], [[['suneel', 'Hin'], ['Poora', 'Hin'], ['khandan', 'Eng'], ['terrorist', 'Eng'], ['hai', 'Hin'], ['aur', 'Hin'], ['ye', 'Hin'], ['khud', 'Hin'], ['khujliwala', 'Hin'], ['kutta', 'Hin'], ['kutto', 'Hin'], ['plz', 'Hin'], ['maaf', 'Hin'], ['karna', 'Hin'], ['tumhari', 'Hin'], ['insult', 'Hin'], ['krne', 'Eng']], 'positive'], [[['Jab', 'Hin'], ['tak', 'Hin'], ['Ramji', 'Hin'], ['k', 'Hin'], ['charno', 'Hin'], ['me', 'Hin'], ['girkar', 'Hin'], ['mangoge', 'Hin'], ['nahi', 'Hin'], ['paoge', 'Hin'], ['nhi', 'Hin'], ['Bhole', 'Hin'], ['baba', 'Hin'], ['ne', 'Hin'], ['hath', 'Hin'], ['khde', 'Hin'], ['kar', 'Hin'], ['liye', 'Hin'], ['Main', 'Hin'], ['unke', 'Hin'], ['khne', 'Hin'], ['pe', 'Hin'], ['nhi', 'Eng']], 'negative'], [[['RT', 'Eng'], ['Soompi', 'Eng'], ['Award', 'Eng'], ['Best', 'Eng'], ['variety', 'Eng'], ['show', 'Eng'], ['Busted', 'Eng'], ['Best', 'Eng'], ['Idol', 'Eng'], ['Actor', 'Hin'], ['Sehun', 'Hin'], ['Best', 'Hin'], ['soundtrack', 'Eng'], ['Live', 'Eng'], ['OST', 'Eng'], ['Best', 'Eng'], ['couple', 'Eng'], ['Kyungsoo', 'Hin'], ['N', 'Hin']], 'negative'], [[['ji', 'Hin'], ['bahut', 'Hin'], ['bahut', 'Hin'], ['subhkamnaye', 'Hin'], ['hope', 'Hin'], ['you', 'Eng'], ['scale', 'Eng'], ['new', 'Eng'], ['heights', 'Eng'], ['in', 'Eng'], ['near', 'Eng'], ['future', 'Eng'], ['CabinetAnnouncement2019', 'Eng']], 'negative'], [[['Rubika', 'Eng'], ['Di', 'Hin'], ['Umar', 'Hin'], ['mein', 'Hin'], ['aap', 'Hin'], ['se', 'Hin'], ['kaafi', 'Hin'], ['chota', 'Hin'], ['hun', 'Hin'], ['Par', 'Hin'], ['I', 'Hin'], ['am', 'Eng'], ['a', 'Eng'], ['big', 'Eng'], ['fan', 'Eng'], ['of', 'Eng'], ['yours', 'Eng'], ['Kabhi', 'Hin'], ['naseeb', 'Hin'], ['ne', 'Hin'], ['chaha', 'Hin'], ['to', 'Hin']], 'neutral'], [[['Yr', 'Eng'], ['k', 'Hin'], ['dor', 'Hin'], ['ka', 'Hin'], ['ek', 'Hin'], ['song', 'Hin'], ['ha', 'Hin'], ['jis', 'Hin'], ['ma', 'Hin'], ['Adnan', 'Hin'], ['Sami', 'Hin'], ['na', 'Hin'], ['Mujahid', 'Eng'], ['k', 'Eng'], ['part', 'Eng'], ['play', 'Eng'], ['keya', 'Hin'], ['tha', 'Hin'], ['Adnan', 'Hin'], ['Sami', 'Hin'], ['ka', 'Hin'], ['wo', 'Hin'], ['song', 'Eng'], ['yad', 'Hin'], ['ha', 'Hin'], ['to', 'Hin'], ['zaror', 'Eng']], 'neutral'], [[['Mp', 'Hin'], ['chunav', 'Hin'], ['me', 'Hin'], ['evm', 'Hin'], ['ne', 'Hin'], ['jitaya', 'Hin'], ['janta', 'Hin'], ['to', 'Eng'], ['Congress', 'Eng'], ['ko', 'Hin'], ['vote', 'Hin'], ['Kiya', 'Hin'], ['tha', 'Hin']], 'neutral'], [[['PhD', 'Eng'], ['You', 'Hin'], ['re', 'Eng'], ['awesome', 'Eng'], ['Much', 'Hin'], ['love', 'Eng'], ['and', 'Eng'], ['hope', 'Eng'], ['to', 'Eng'], ['see', 'Hin'], ['APSA', 'Hin']], 'positive']]\n"
     ]
    }
   ],
   "source": [
    "print(processed_4[30:50])"
   ]
  },
  {
   "cell_type": "code",
   "execution_count": null,
   "metadata": {},
   "outputs": [],
   "source": [
    "from flair.embeddings import FlairEmbeddings, BertEmbeddings\n",
    "flair_forward_embedding = FlairEmbeddings('multi-forward')\n",
    "flair_backward_embedding = FlairEmbeddings('multi-backward')\n",
    "bert_embedding = BertEmbeddings('bert-base-multilingual-cased')\n",
    "from flair.embeddings import StackedEmbeddings\n",
    "stacked_embeddings = StackedEmbeddings(\n",
    "    embeddings=[flair_forward_embedding, flair_backward_embedding, bert_embedding])"
   ]
  },
  {
   "cell_type": "code",
   "execution_count": null,
   "metadata": {},
   "outputs": [],
   "source": [
    "embeddings_polarity=[]\n",
    "for i in processed_4:\n",
    "    sen=''\n",
    "    print(i)\n",
    "    for j in range(len(i[0])):\n",
    "        sen=sen+' '+i[0][j][0]\n",
    "    embeddings_polarity.append([stacked_embeddings.embed([sen[1:]]),i[1]])"
   ]
  },
  {
   "cell_type": "code",
   "execution_count": 244,
   "metadata": {},
   "outputs": [],
   "source": [
    "import numpy as np\n",
    "np.save(\"embedu\",np.array(embeddings_polarity))\n",
    "np_emb_train=np.load(\"embedu.npy\")\n",
    "np_emb_test=np.load(\"embedu_test.npy\")\n",
    "#np.save(\"test_embedu\",np.array(embeddings_polarity))"
   ]
  },
  {
   "cell_type": "code",
   "execution_count": 1,
   "metadata": {},
   "outputs": [
    {
     "name": "stderr",
     "output_type": "stream",
     "text": [
      "Using TensorFlow backend.\n"
     ]
    }
   ],
   "source": [
    "import numpy as np\n",
    "import regex as re\n",
    "from keras.models import Sequential\n",
    "from keras.layers import Dense\n",
    "from keras.layers import Dropout\n",
    "from keras.layers import LSTM, Bidirectional,Flatten,GRU\n",
    "from keras.layers import Embedding\n",
    "from keras.layers import SimpleRNN\n",
    "from keras.utils import np_utils\n",
    "from keras.callbacks import ModelCheckpoint\n",
    "from keras.preprocessing.text import Tokenizer\n",
    "from keras import backend as K\n",
    "from keras_self_attention import SeqSelfAttention"
   ]
  },
  {
   "cell_type": "code",
   "execution_count": 4,
   "metadata": {},
   "outputs": [
    {
     "name": "stdout",
     "output_type": "stream",
     "text": [
      "(18, 3072)\n",
      "(1869,)\n"
     ]
    }
   ],
   "source": [
    "l=[]\n",
    "m=[]\n",
    "embeddings_polarity=np_emb_train.tolist()\n",
    "for i in range(len(embeddings_polarity)):\n",
    "    l.append(embeddings_polarity[i][0])\n",
    "    if embeddings_polarity[i][1].lower()=='positive':\n",
    "        m.append(1)\n",
    "    elif embeddings_polarity[i][1].lower()=='negative':\n",
    "        m.append(2)\n",
    "    else:\n",
    "        m.append(0)\n",
    "l1=[]\n",
    "m1=[]\n",
    "embeddings_test=np_emb_test.tolist()\n",
    "for i in range(len(embeddings_test)):\n",
    "    l1.append(embeddings_test[i][0])\n",
    "    if embeddings_test[i][1].lower()=='positive':\n",
    "        m1.append(1)\n",
    "    elif embeddings_test[i][1].lower()=='negative':\n",
    "        m1.append(2)\n",
    "    else:\n",
    "        m1.append(0)\n",
    "import torch\n",
    "from torch.nn.utils.rnn import pad_sequence\n",
    "print(np_emb_train[0].shape)  \n",
    "print(np_emb_test.shape)  \n",
    "X_train = np_emb_train\n",
    "X_test = np_emb_test\n",
    "emb_list = []\n",
    "for i in X_train:\n",
    "    emb_list.append(torch.tensor(i[:31]))\n",
    "X_train = pad_sequence(emb_list, batch_first=True)\n",
    "#X_test = preprocessing.sequence.pad_sequences(X_test, maxlen=500)\n",
    "emb_list = []\n",
    "for i in X_test:\n",
    "    emb_list.append(torch.tensor(i[:31]))\n",
    "X_test = pad_sequence(emb_list, batch_first=True)"
   ]
  },
  {
   "cell_type": "code",
   "execution_count": 5,
   "metadata": {},
   "outputs": [],
   "source": [
    "Y_train1=np_utils.to_categorical(Y_train)\n",
    "Y_test=np.array(m1)\n",
    "Y_test1=np_utils.to_categorical(Y_test)\n",
    "Y_train=Y_train.reshape((-1,1))"
   ]
  },
  {
   "cell_type": "code",
   "execution_count": 9,
   "metadata": {},
   "outputs": [
    {
     "name": "stdout",
     "output_type": "stream",
     "text": [
      "Epoch 1/15\n",
      "15131/15131 [==============================] - ETA: 1:59 - loss: 1.0997 - acc: 0.3594 - f1_m: 0.0078 - precision_m: 0.5000 - recall_m: 0.003 - ETA: 1:04 - loss: 1.0953 - acc: 0.3926 - f1_m: 0.0039 - precision_m: 0.2500 - recall_m: 0.002 - ETA: 46s - loss: 1.0898 - acc: 0.3932 - f1_m: 0.0026 - precision_m: 0.1667 - recall_m: 0.001 - ETA: 37s - loss: 1.0864 - acc: 0.4043 - f1_m: 0.0114 - precision_m: 0.2812 - recall_m: 0.00 - ETA: 31s - loss: 1.0809 - acc: 0.4117 - f1_m: 0.0151 - precision_m: 0.3050 - recall_m: 0.00 - ETA: 28s - loss: 1.0784 - acc: 0.4245 - f1_m: 0.0177 - precision_m: 0.3653 - recall_m: 0.00 - ETA: 25s - loss: 1.0764 - acc: 0.4241 - f1_m: 0.0236 - precision_m: 0.3947 - recall_m: 0.01 - ETA: 23s - loss: 1.0740 - acc: 0.4189 - f1_m: 0.0343 - precision_m: 0.4441 - recall_m: 0.01 - ETA: 21s - loss: 1.0703 - acc: 0.4236 - f1_m: 0.0416 - precision_m: 0.4570 - recall_m: 0.02 - ETA: 19s - loss: 1.0657 - acc: 0.4270 - f1_m: 0.0509 - precision_m: 0.4873 - recall_m: 0.02 - ETA: 18s - loss: 1.0632 - acc: 0.4283 - f1_m: 0.0578 - precision_m: 0.5014 - recall_m: 0.03 - ETA: 17s - loss: 1.0597 - acc: 0.4333 - f1_m: 0.0678 - precision_m: 0.5166 - recall_m: 0.03 - ETA: 16s - loss: 1.0588 - acc: 0.4357 - f1_m: 0.0714 - precision_m: 0.5096 - recall_m: 0.03 - ETA: 15s - loss: 1.0583 - acc: 0.4364 - f1_m: 0.0760 - precision_m: 0.5108 - recall_m: 0.04 - ETA: 15s - loss: 1.0564 - acc: 0.4380 - f1_m: 0.0801 - precision_m: 0.5159 - recall_m: 0.04 - ETA: 14s - loss: 1.0540 - acc: 0.4407 - f1_m: 0.0816 - precision_m: 0.5105 - recall_m: 0.04 - ETA: 13s - loss: 1.0506 - acc: 0.4432 - f1_m: 0.0896 - precision_m: 0.5121 - recall_m: 0.05 - ETA: 13s - loss: 1.0485 - acc: 0.4466 - f1_m: 0.0976 - precision_m: 0.5174 - recall_m: 0.05 - ETA: 12s - loss: 1.0461 - acc: 0.4478 - f1_m: 0.1024 - precision_m: 0.5160 - recall_m: 0.05 - ETA: 12s - loss: 1.0438 - acc: 0.4504 - f1_m: 0.1082 - precision_m: 0.5167 - recall_m: 0.06 - ETA: 11s - loss: 1.0403 - acc: 0.4550 - f1_m: 0.1151 - precision_m: 0.5217 - recall_m: 0.06 - ETA: 11s - loss: 1.0371 - acc: 0.4577 - f1_m: 0.1222 - precision_m: 0.5266 - recall_m: 0.07 - ETA: 10s - loss: 1.0346 - acc: 0.4608 - f1_m: 0.1305 - precision_m: 0.5318 - recall_m: 0.07 - ETA: 10s - loss: 1.0326 - acc: 0.4618 - f1_m: 0.1374 - precision_m: 0.5347 - recall_m: 0.08 - ETA: 9s - loss: 1.0294 - acc: 0.4655 - f1_m: 0.1446 - precision_m: 0.5397 - recall_m: 0.0883 - ETA: 9s - loss: 1.0283 - acc: 0.4654 - f1_m: 0.1511 - precision_m: 0.5402 - recall_m: 0.093 - ETA: 9s - loss: 1.0255 - acc: 0.4685 - f1_m: 0.1591 - precision_m: 0.5437 - recall_m: 0.099 - ETA: 8s - loss: 1.0234 - acc: 0.4703 - f1_m: 0.1663 - precision_m: 0.5458 - recall_m: 0.105 - ETA: 8s - loss: 1.0202 - acc: 0.4731 - f1_m: 0.1746 - precision_m: 0.5500 - recall_m: 0.111 - ETA: 8s - loss: 1.0172 - acc: 0.4768 - f1_m: 0.1813 - precision_m: 0.5531 - recall_m: 0.116 - ETA: 7s - loss: 1.0160 - acc: 0.4772 - f1_m: 0.1867 - precision_m: 0.5533 - recall_m: 0.121 - ETA: 7s - loss: 1.0136 - acc: 0.4792 - f1_m: 0.1943 - precision_m: 0.5547 - recall_m: 0.127 - ETA: 7s - loss: 1.0111 - acc: 0.4809 - f1_m: 0.2014 - precision_m: 0.5571 - recall_m: 0.133 - ETA: 6s - loss: 1.0083 - acc: 0.4830 - f1_m: 0.2074 - precision_m: 0.5585 - recall_m: 0.138 - ETA: 6s - loss: 1.0051 - acc: 0.4854 - f1_m: 0.2143 - precision_m: 0.5607 - recall_m: 0.144 - ETA: 6s - loss: 1.0022 - acc: 0.4867 - f1_m: 0.2200 - precision_m: 0.5626 - recall_m: 0.149 - ETA: 5s - loss: 1.0010 - acc: 0.4870 - f1_m: 0.2250 - precision_m: 0.5633 - recall_m: 0.153 - ETA: 5s - loss: 1.0001 - acc: 0.4872 - f1_m: 0.2297 - precision_m: 0.5634 - recall_m: 0.157 - ETA: 5s - loss: 0.9994 - acc: 0.4872 - f1_m: 0.2341 - precision_m: 0.5628 - recall_m: 0.162 - ETA: 5s - loss: 0.9987 - acc: 0.4876 - f1_m: 0.2387 - precision_m: 0.5629 - recall_m: 0.166 - ETA: 4s - loss: 0.9972 - acc: 0.4895 - f1_m: 0.2434 - precision_m: 0.5649 - recall_m: 0.170 - ETA: 4s - loss: 0.9962 - acc: 0.4893 - f1_m: 0.2453 - precision_m: 0.5668 - recall_m: 0.171 - ETA: 4s - loss: 0.9949 - acc: 0.4894 - f1_m: 0.2468 - precision_m: 0.5694 - recall_m: 0.171 - ETA: 3s - loss: 0.9933 - acc: 0.4905 - f1_m: 0.2507 - precision_m: 0.5726 - recall_m: 0.174 - ETA: 3s - loss: 0.9917 - acc: 0.4918 - f1_m: 0.2543 - precision_m: 0.5741 - recall_m: 0.177 - ETA: 3s - loss: 0.9896 - acc: 0.4935 - f1_m: 0.2594 - precision_m: 0.5767 - recall_m: 0.181 - ETA: 3s - loss: 0.9889 - acc: 0.4936 - f1_m: 0.2632 - precision_m: 0.5771 - recall_m: 0.185 - ETA: 2s - loss: 0.9881 - acc: 0.4949 - f1_m: 0.2666 - precision_m: 0.5775 - recall_m: 0.188 - ETA: 2s - loss: 0.9866 - acc: 0.4957 - f1_m: 0.2701 - precision_m: 0.5778 - recall_m: 0.191 - ETA: 2s - loss: 0.9842 - acc: 0.4974 - f1_m: 0.2743 - precision_m: 0.5792 - recall_m: 0.195 - ETA: 2s - loss: 0.9838 - acc: 0.4978 - f1_m: 0.2764 - precision_m: 0.5785 - recall_m: 0.197 - ETA: 1s - loss: 0.9827 - acc: 0.4983 - f1_m: 0.2795 - precision_m: 0.5791 - recall_m: 0.200 - ETA: 1s - loss: 0.9820 - acc: 0.4991 - f1_m: 0.2818 - precision_m: 0.5797 - recall_m: 0.202 - ETA: 1s - loss: 0.9805 - acc: 0.5001 - f1_m: 0.2842 - precision_m: 0.5804 - recall_m: 0.204 - ETA: 1s - loss: 0.9784 - acc: 0.5018 - f1_m: 0.2872 - precision_m: 0.5819 - recall_m: 0.206 - ETA: 0s - loss: 0.9772 - acc: 0.5031 - f1_m: 0.2899 - precision_m: 0.5822 - recall_m: 0.209 - ETA: 0s - loss: 0.9755 - acc: 0.5040 - f1_m: 0.2938 - precision_m: 0.5840 - recall_m: 0.212 - ETA: 0s - loss: 0.9743 - acc: 0.5050 - f1_m: 0.2966 - precision_m: 0.5850 - recall_m: 0.215 - ETA: 0s - loss: 0.9725 - acc: 0.5064 - f1_m: 0.2992 - precision_m: 0.5867 - recall_m: 0.217 - 15s 981us/step - loss: 0.9723 - acc: 0.5066 - f1_m: 0.2995 - precision_m: 0.5869 - recall_m: 0.2172\n",
      "\n",
      "Epoch 00001: loss improved from inf to 0.97231, saving model to lstm.hdf5\n",
      "Epoch 2/15\n"
     ]
    },
    {
     "name": "stdout",
     "output_type": "stream",
     "text": [
      "15131/15131 [==============================] - ETA: 11s - loss: 0.9424 - acc: 0.5391 - f1_m: 0.4399 - precision_m: 0.6370 - recall_m: 0.33 - ETA: 12s - loss: 0.9592 - acc: 0.4902 - f1_m: 0.4005 - precision_m: 0.6098 - recall_m: 0.29 - ETA: 11s - loss: 0.9482 - acc: 0.5000 - f1_m: 0.3902 - precision_m: 0.5963 - recall_m: 0.29 - ETA: 11s - loss: 0.9398 - acc: 0.5068 - f1_m: 0.3998 - precision_m: 0.6016 - recall_m: 0.29 - ETA: 11s - loss: 0.9374 - acc: 0.5172 - f1_m: 0.4095 - precision_m: 0.6026 - recall_m: 0.31 - ETA: 11s - loss: 0.9399 - acc: 0.5208 - f1_m: 0.4163 - precision_m: 0.6047 - recall_m: 0.31 - ETA: 11s - loss: 0.9457 - acc: 0.5195 - f1_m: 0.4188 - precision_m: 0.6040 - recall_m: 0.32 - ETA: 11s - loss: 0.9333 - acc: 0.5371 - f1_m: 0.4305 - precision_m: 0.6167 - recall_m: 0.33 - ETA: 10s - loss: 0.9273 - acc: 0.5391 - f1_m: 0.4326 - precision_m: 0.6234 - recall_m: 0.33 - ETA: 10s - loss: 0.9311 - acc: 0.5395 - f1_m: 0.4235 - precision_m: 0.6215 - recall_m: 0.32 - ETA: 10s - loss: 0.9233 - acc: 0.5451 - f1_m: 0.4270 - precision_m: 0.6340 - recall_m: 0.32 - ETA: 10s - loss: 0.9244 - acc: 0.5430 - f1_m: 0.4203 - precision_m: 0.6297 - recall_m: 0.31 - ETA: 9s - loss: 0.9222 - acc: 0.5445 - f1_m: 0.4192 - precision_m: 0.6308 - recall_m: 0.3155 - ETA: 9s - loss: 0.9209 - acc: 0.5455 - f1_m: 0.4186 - precision_m: 0.6277 - recall_m: 0.315 - ETA: 9s - loss: 0.9180 - acc: 0.5469 - f1_m: 0.4232 - precision_m: 0.6285 - recall_m: 0.320 - ETA: 9s - loss: 0.9177 - acc: 0.5476 - f1_m: 0.4277 - precision_m: 0.6277 - recall_m: 0.326 - ETA: 8s - loss: 0.9139 - acc: 0.5499 - f1_m: 0.4329 - precision_m: 0.6276 - recall_m: 0.333 - ETA: 8s - loss: 0.9130 - acc: 0.5510 - f1_m: 0.4349 - precision_m: 0.6287 - recall_m: 0.335 - ETA: 8s - loss: 0.9110 - acc: 0.5518 - f1_m: 0.4363 - precision_m: 0.6313 - recall_m: 0.335 - ETA: 8s - loss: 0.9116 - acc: 0.5514 - f1_m: 0.4365 - precision_m: 0.6321 - recall_m: 0.335 - ETA: 8s - loss: 0.9107 - acc: 0.5536 - f1_m: 0.4369 - precision_m: 0.6335 - recall_m: 0.335 - ETA: 7s - loss: 0.9071 - acc: 0.5566 - f1_m: 0.4409 - precision_m: 0.6367 - recall_m: 0.339 - ETA: 7s - loss: 0.9044 - acc: 0.5589 - f1_m: 0.4443 - precision_m: 0.6382 - recall_m: 0.343 - ETA: 7s - loss: 0.9017 - acc: 0.5617 - f1_m: 0.4469 - precision_m: 0.6395 - recall_m: 0.345 - ETA: 7s - loss: 0.9016 - acc: 0.5609 - f1_m: 0.4461 - precision_m: 0.6359 - recall_m: 0.345 - ETA: 6s - loss: 0.9009 - acc: 0.5623 - f1_m: 0.4480 - precision_m: 0.6370 - recall_m: 0.347 - ETA: 6s - loss: 0.9010 - acc: 0.5632 - f1_m: 0.4498 - precision_m: 0.6375 - recall_m: 0.349 - ETA: 6s - loss: 0.8967 - acc: 0.5650 - f1_m: 0.4524 - precision_m: 0.6381 - recall_m: 0.352 - ETA: 6s - loss: 0.8963 - acc: 0.5645 - f1_m: 0.4524 - precision_m: 0.6365 - recall_m: 0.353 - ETA: 6s - loss: 0.8956 - acc: 0.5633 - f1_m: 0.4528 - precision_m: 0.6345 - recall_m: 0.354 - ETA: 5s - loss: 0.8963 - acc: 0.5643 - f1_m: 0.4546 - precision_m: 0.6341 - recall_m: 0.357 - ETA: 5s - loss: 0.8967 - acc: 0.5626 - f1_m: 0.4552 - precision_m: 0.6322 - recall_m: 0.358 - ETA: 5s - loss: 0.8951 - acc: 0.5632 - f1_m: 0.4569 - precision_m: 0.6321 - recall_m: 0.360 - ETA: 5s - loss: 0.8943 - acc: 0.5640 - f1_m: 0.4590 - precision_m: 0.6323 - recall_m: 0.363 - ETA: 5s - loss: 0.8938 - acc: 0.5650 - f1_m: 0.4616 - precision_m: 0.6328 - recall_m: 0.366 - ETA: 4s - loss: 0.8938 - acc: 0.5646 - f1_m: 0.4625 - precision_m: 0.6316 - recall_m: 0.368 - ETA: 4s - loss: 0.8941 - acc: 0.5646 - f1_m: 0.4629 - precision_m: 0.6304 - recall_m: 0.369 - ETA: 4s - loss: 0.8923 - acc: 0.5661 - f1_m: 0.4642 - precision_m: 0.6315 - recall_m: 0.370 - ETA: 4s - loss: 0.8928 - acc: 0.5662 - f1_m: 0.4640 - precision_m: 0.6304 - recall_m: 0.370 - ETA: 3s - loss: 0.8931 - acc: 0.5655 - f1_m: 0.4643 - precision_m: 0.6304 - recall_m: 0.370 - ETA: 3s - loss: 0.8923 - acc: 0.5661 - f1_m: 0.4657 - precision_m: 0.6311 - recall_m: 0.372 - ETA: 3s - loss: 0.8937 - acc: 0.5649 - f1_m: 0.4652 - precision_m: 0.6297 - recall_m: 0.371 - ETA: 3s - loss: 0.8939 - acc: 0.5643 - f1_m: 0.4656 - precision_m: 0.6294 - recall_m: 0.372 - ETA: 3s - loss: 0.8940 - acc: 0.5644 - f1_m: 0.4657 - precision_m: 0.6297 - recall_m: 0.372 - ETA: 2s - loss: 0.8936 - acc: 0.5647 - f1_m: 0.4662 - precision_m: 0.6307 - recall_m: 0.372 - ETA: 2s - loss: 0.8928 - acc: 0.5650 - f1_m: 0.4672 - precision_m: 0.6323 - recall_m: 0.373 - ETA: 2s - loss: 0.8913 - acc: 0.5661 - f1_m: 0.4680 - precision_m: 0.6339 - recall_m: 0.373 - ETA: 2s - loss: 0.8909 - acc: 0.5655 - f1_m: 0.4678 - precision_m: 0.6334 - recall_m: 0.373 - ETA: 2s - loss: 0.8893 - acc: 0.5671 - f1_m: 0.4700 - precision_m: 0.6347 - recall_m: 0.375 - ETA: 1s - loss: 0.8890 - acc: 0.5674 - f1_m: 0.4702 - precision_m: 0.6344 - recall_m: 0.376 - ETA: 1s - loss: 0.8885 - acc: 0.5680 - f1_m: 0.4716 - precision_m: 0.6349 - recall_m: 0.377 - ETA: 1s - loss: 0.8877 - acc: 0.5679 - f1_m: 0.4729 - precision_m: 0.6352 - recall_m: 0.379 - ETA: 1s - loss: 0.8873 - acc: 0.5682 - f1_m: 0.4739 - precision_m: 0.6350 - recall_m: 0.380 - ETA: 1s - loss: 0.8882 - acc: 0.5684 - f1_m: 0.4744 - precision_m: 0.6341 - recall_m: 0.381 - ETA: 0s - loss: 0.8874 - acc: 0.5692 - f1_m: 0.4762 - precision_m: 0.6351 - recall_m: 0.383 - ETA: 0s - loss: 0.8864 - acc: 0.5700 - f1_m: 0.4773 - precision_m: 0.6350 - recall_m: 0.385 - ETA: 0s - loss: 0.8862 - acc: 0.5697 - f1_m: 0.4781 - precision_m: 0.6347 - recall_m: 0.386 - ETA: 0s - loss: 0.8864 - acc: 0.5698 - f1_m: 0.4790 - precision_m: 0.6342 - recall_m: 0.388 - ETA: 0s - loss: 0.8847 - acc: 0.5712 - f1_m: 0.4810 - precision_m: 0.6350 - recall_m: 0.390 - 13s 827us/step - loss: 0.8846 - acc: 0.5710 - f1_m: 0.4810 - precision_m: 0.6349 - recall_m: 0.3906\n",
      "\n",
      "Epoch 00002: loss improved from 0.97231 to 0.88463, saving model to lstm.hdf5\n",
      "Epoch 3/15\n"
     ]
    },
    {
     "name": "stdout",
     "output_type": "stream",
     "text": [
      "15131/15131 [==============================] - ETA: 11s - loss: 0.9186 - acc: 0.5586 - f1_m: 0.5529 - precision_m: 0.6184 - recall_m: 0.50 - ETA: 11s - loss: 0.8747 - acc: 0.5820 - f1_m: 0.5587 - precision_m: 0.6365 - recall_m: 0.49 - ETA: 11s - loss: 0.8576 - acc: 0.5938 - f1_m: 0.5581 - precision_m: 0.6478 - recall_m: 0.49 - ETA: 11s - loss: 0.8672 - acc: 0.5840 - f1_m: 0.5356 - precision_m: 0.6361 - recall_m: 0.46 - ETA: 11s - loss: 0.8594 - acc: 0.5867 - f1_m: 0.5332 - precision_m: 0.6411 - recall_m: 0.45 - ETA: 10s - loss: 0.8627 - acc: 0.5885 - f1_m: 0.5324 - precision_m: 0.6453 - recall_m: 0.45 - ETA: 10s - loss: 0.8574 - acc: 0.5921 - f1_m: 0.5347 - precision_m: 0.6524 - recall_m: 0.45 - ETA: 10s - loss: 0.8483 - acc: 0.5981 - f1_m: 0.5420 - precision_m: 0.6609 - recall_m: 0.46 - ETA: 10s - loss: 0.8492 - acc: 0.5938 - f1_m: 0.5409 - precision_m: 0.6601 - recall_m: 0.45 - ETA: 10s - loss: 0.8469 - acc: 0.5949 - f1_m: 0.5410 - precision_m: 0.6605 - recall_m: 0.45 - ETA: 9s - loss: 0.8475 - acc: 0.5934 - f1_m: 0.5387 - precision_m: 0.6607 - recall_m: 0.4556 - ETA: 9s - loss: 0.8501 - acc: 0.5938 - f1_m: 0.5390 - precision_m: 0.6622 - recall_m: 0.455 - ETA: 9s - loss: 0.8474 - acc: 0.5938 - f1_m: 0.5389 - precision_m: 0.6656 - recall_m: 0.453 - ETA: 9s - loss: 0.8506 - acc: 0.5926 - f1_m: 0.5371 - precision_m: 0.6629 - recall_m: 0.452 - ETA: 9s - loss: 0.8498 - acc: 0.5924 - f1_m: 0.5372 - precision_m: 0.6602 - recall_m: 0.453 - ETA: 8s - loss: 0.8499 - acc: 0.5923 - f1_m: 0.5391 - precision_m: 0.6608 - recall_m: 0.456 - ETA: 8s - loss: 0.8503 - acc: 0.5919 - f1_m: 0.5406 - precision_m: 0.6605 - recall_m: 0.458 - ETA: 8s - loss: 0.8485 - acc: 0.5944 - f1_m: 0.5428 - precision_m: 0.6614 - recall_m: 0.461 - ETA: 8s - loss: 0.8504 - acc: 0.5948 - f1_m: 0.5424 - precision_m: 0.6612 - recall_m: 0.460 - ETA: 8s - loss: 0.8506 - acc: 0.5939 - f1_m: 0.5417 - precision_m: 0.6592 - recall_m: 0.460 - ETA: 7s - loss: 0.8494 - acc: 0.5939 - f1_m: 0.5425 - precision_m: 0.6577 - recall_m: 0.462 - ETA: 7s - loss: 0.8481 - acc: 0.5950 - f1_m: 0.5430 - precision_m: 0.6573 - recall_m: 0.463 - ETA: 7s - loss: 0.8514 - acc: 0.5924 - f1_m: 0.5407 - precision_m: 0.6530 - recall_m: 0.462 - ETA: 7s - loss: 0.8501 - acc: 0.5934 - f1_m: 0.5412 - precision_m: 0.6521 - recall_m: 0.463 - ETA: 7s - loss: 0.8495 - acc: 0.5942 - f1_m: 0.5411 - precision_m: 0.6516 - recall_m: 0.463 - ETA: 6s - loss: 0.8489 - acc: 0.5957 - f1_m: 0.5415 - precision_m: 0.6512 - recall_m: 0.464 - ETA: 6s - loss: 0.8468 - acc: 0.5977 - f1_m: 0.5437 - precision_m: 0.6530 - recall_m: 0.466 - ETA: 6s - loss: 0.8469 - acc: 0.5981 - f1_m: 0.5441 - precision_m: 0.6521 - recall_m: 0.467 - ETA: 6s - loss: 0.8471 - acc: 0.5970 - f1_m: 0.5445 - precision_m: 0.6507 - recall_m: 0.469 - ETA: 6s - loss: 0.8474 - acc: 0.5967 - f1_m: 0.5449 - precision_m: 0.6499 - recall_m: 0.470 - ETA: 5s - loss: 0.8476 - acc: 0.5959 - f1_m: 0.5448 - precision_m: 0.6490 - recall_m: 0.470 - ETA: 5s - loss: 0.8483 - acc: 0.5956 - f1_m: 0.5448 - precision_m: 0.6477 - recall_m: 0.471 - ETA: 5s - loss: 0.8470 - acc: 0.5960 - f1_m: 0.5458 - precision_m: 0.6482 - recall_m: 0.472 - ETA: 5s - loss: 0.8468 - acc: 0.5962 - f1_m: 0.5460 - precision_m: 0.6476 - recall_m: 0.473 - ETA: 4s - loss: 0.8481 - acc: 0.5946 - f1_m: 0.5457 - precision_m: 0.6466 - recall_m: 0.473 - ETA: 4s - loss: 0.8482 - acc: 0.5947 - f1_m: 0.5458 - precision_m: 0.6460 - recall_m: 0.473 - ETA: 4s - loss: 0.8486 - acc: 0.5943 - f1_m: 0.5453 - precision_m: 0.6455 - recall_m: 0.473 - ETA: 4s - loss: 0.8480 - acc: 0.5941 - f1_m: 0.5450 - precision_m: 0.6457 - recall_m: 0.472 - ETA: 4s - loss: 0.8482 - acc: 0.5943 - f1_m: 0.5445 - precision_m: 0.6464 - recall_m: 0.471 - ETA: 3s - loss: 0.8493 - acc: 0.5927 - f1_m: 0.5435 - precision_m: 0.6463 - recall_m: 0.470 - ETA: 3s - loss: 0.8501 - acc: 0.5921 - f1_m: 0.5428 - precision_m: 0.6461 - recall_m: 0.469 - ETA: 3s - loss: 0.8497 - acc: 0.5924 - f1_m: 0.5429 - precision_m: 0.6472 - recall_m: 0.468 - ETA: 3s - loss: 0.8486 - acc: 0.5933 - f1_m: 0.5438 - precision_m: 0.6484 - recall_m: 0.469 - ETA: 3s - loss: 0.8495 - acc: 0.5926 - f1_m: 0.5434 - precision_m: 0.6478 - recall_m: 0.469 - ETA: 2s - loss: 0.8497 - acc: 0.5920 - f1_m: 0.5429 - precision_m: 0.6469 - recall_m: 0.468 - ETA: 2s - loss: 0.8498 - acc: 0.5930 - f1_m: 0.5438 - precision_m: 0.6473 - recall_m: 0.470 - ETA: 2s - loss: 0.8476 - acc: 0.5943 - f1_m: 0.5453 - precision_m: 0.6494 - recall_m: 0.471 - ETA: 2s - loss: 0.8477 - acc: 0.5944 - f1_m: 0.5454 - precision_m: 0.6503 - recall_m: 0.470 - ETA: 2s - loss: 0.8476 - acc: 0.5945 - f1_m: 0.5456 - precision_m: 0.6505 - recall_m: 0.471 - ETA: 1s - loss: 0.8475 - acc: 0.5947 - f1_m: 0.5460 - precision_m: 0.6510 - recall_m: 0.471 - ETA: 1s - loss: 0.8469 - acc: 0.5951 - f1_m: 0.5460 - precision_m: 0.6509 - recall_m: 0.471 - ETA: 1s - loss: 0.8464 - acc: 0.5953 - f1_m: 0.5466 - precision_m: 0.6513 - recall_m: 0.472 - ETA: 1s - loss: 0.8450 - acc: 0.5959 - f1_m: 0.5474 - precision_m: 0.6519 - recall_m: 0.472 - ETA: 1s - loss: 0.8447 - acc: 0.5963 - f1_m: 0.5480 - precision_m: 0.6520 - recall_m: 0.473 - ETA: 0s - loss: 0.8445 - acc: 0.5964 - f1_m: 0.5482 - precision_m: 0.6522 - recall_m: 0.473 - ETA: 0s - loss: 0.8448 - acc: 0.5967 - f1_m: 0.5490 - precision_m: 0.6529 - recall_m: 0.474 - ETA: 0s - loss: 0.8443 - acc: 0.5972 - f1_m: 0.5501 - precision_m: 0.6539 - recall_m: 0.475 - ETA: 0s - loss: 0.8441 - acc: 0.5981 - f1_m: 0.5506 - precision_m: 0.6539 - recall_m: 0.476 - ETA: 0s - loss: 0.8437 - acc: 0.5979 - f1_m: 0.5505 - precision_m: 0.6536 - recall_m: 0.476 - 12s 823us/step - loss: 0.8436 - acc: 0.5981 - f1_m: 0.5507 - precision_m: 0.6537 - recall_m: 0.4768\n",
      "\n",
      "Epoch 00003: loss improved from 0.88463 to 0.84360, saving model to lstm.hdf5\n",
      "Epoch 4/15\n"
     ]
    },
    {
     "name": "stdout",
     "output_type": "stream",
     "text": [
      "15131/15131 [==============================] - ETA: 11s - loss: 0.7514 - acc: 0.6953 - f1_m: 0.6269 - precision_m: 0.7208 - recall_m: 0.55 - ETA: 11s - loss: 0.7905 - acc: 0.6562 - f1_m: 0.5957 - precision_m: 0.6813 - recall_m: 0.52 - ETA: 11s - loss: 0.8085 - acc: 0.6354 - f1_m: 0.5829 - precision_m: 0.6619 - recall_m: 0.52 - ETA: 11s - loss: 0.7993 - acc: 0.6445 - f1_m: 0.5966 - precision_m: 0.6757 - recall_m: 0.53 - ETA: 11s - loss: 0.8031 - acc: 0.6406 - f1_m: 0.5935 - precision_m: 0.6749 - recall_m: 0.52 - ETA: 10s - loss: 0.7988 - acc: 0.6380 - f1_m: 0.5952 - precision_m: 0.6769 - recall_m: 0.53 - ETA: 10s - loss: 0.7950 - acc: 0.6406 - f1_m: 0.6002 - precision_m: 0.6790 - recall_m: 0.53 - ETA: 10s - loss: 0.7878 - acc: 0.6421 - f1_m: 0.6029 - precision_m: 0.6776 - recall_m: 0.54 - ETA: 10s - loss: 0.7896 - acc: 0.6415 - f1_m: 0.6052 - precision_m: 0.6789 - recall_m: 0.54 - ETA: 10s - loss: 0.7918 - acc: 0.6379 - f1_m: 0.6012 - precision_m: 0.6747 - recall_m: 0.54 - ETA: 9s - loss: 0.7918 - acc: 0.6413 - f1_m: 0.6041 - precision_m: 0.6802 - recall_m: 0.5437 - ETA: 9s - loss: 0.7863 - acc: 0.6439 - f1_m: 0.6073 - precision_m: 0.6855 - recall_m: 0.545 - ETA: 9s - loss: 0.7875 - acc: 0.6427 - f1_m: 0.6068 - precision_m: 0.6841 - recall_m: 0.545 - ETA: 9s - loss: 0.7878 - acc: 0.6392 - f1_m: 0.6060 - precision_m: 0.6814 - recall_m: 0.546 - ETA: 9s - loss: 0.7889 - acc: 0.6388 - f1_m: 0.6064 - precision_m: 0.6800 - recall_m: 0.547 - ETA: 8s - loss: 0.7868 - acc: 0.6421 - f1_m: 0.6099 - precision_m: 0.6825 - recall_m: 0.551 - ETA: 8s - loss: 0.7864 - acc: 0.6438 - f1_m: 0.6118 - precision_m: 0.6836 - recall_m: 0.554 - ETA: 8s - loss: 0.7873 - acc: 0.6424 - f1_m: 0.6114 - precision_m: 0.6822 - recall_m: 0.554 - ETA: 8s - loss: 0.7903 - acc: 0.6410 - f1_m: 0.6109 - precision_m: 0.6825 - recall_m: 0.553 - ETA: 8s - loss: 0.7912 - acc: 0.6406 - f1_m: 0.6107 - precision_m: 0.6818 - recall_m: 0.553 - ETA: 7s - loss: 0.7899 - acc: 0.6414 - f1_m: 0.6113 - precision_m: 0.6826 - recall_m: 0.553 - ETA: 7s - loss: 0.7897 - acc: 0.6406 - f1_m: 0.6099 - precision_m: 0.6807 - recall_m: 0.552 - ETA: 7s - loss: 0.7859 - acc: 0.6445 - f1_m: 0.6115 - precision_m: 0.6832 - recall_m: 0.553 - ETA: 7s - loss: 0.7857 - acc: 0.6447 - f1_m: 0.6110 - precision_m: 0.6836 - recall_m: 0.552 - ETA: 7s - loss: 0.7859 - acc: 0.6452 - f1_m: 0.6125 - precision_m: 0.6853 - recall_m: 0.554 - ETA: 6s - loss: 0.7868 - acc: 0.6436 - f1_m: 0.6108 - precision_m: 0.6834 - recall_m: 0.552 - ETA: 6s - loss: 0.7865 - acc: 0.6437 - f1_m: 0.6108 - precision_m: 0.6833 - recall_m: 0.552 - ETA: 6s - loss: 0.7885 - acc: 0.6436 - f1_m: 0.6109 - precision_m: 0.6827 - recall_m: 0.553 - ETA: 6s - loss: 0.7906 - acc: 0.6428 - f1_m: 0.6104 - precision_m: 0.6819 - recall_m: 0.552 - ETA: 6s - loss: 0.7872 - acc: 0.6443 - f1_m: 0.6117 - precision_m: 0.6833 - recall_m: 0.554 - ETA: 5s - loss: 0.7890 - acc: 0.6435 - f1_m: 0.6104 - precision_m: 0.6825 - recall_m: 0.552 - ETA: 5s - loss: 0.7900 - acc: 0.6428 - f1_m: 0.6095 - precision_m: 0.6825 - recall_m: 0.551 - ETA: 5s - loss: 0.7938 - acc: 0.6402 - f1_m: 0.6072 - precision_m: 0.6814 - recall_m: 0.548 - ETA: 5s - loss: 0.7951 - acc: 0.6394 - f1_m: 0.6063 - precision_m: 0.6804 - recall_m: 0.547 - ETA: 5s - loss: 0.7979 - acc: 0.6372 - f1_m: 0.6042 - precision_m: 0.6788 - recall_m: 0.544 - ETA: 4s - loss: 0.7988 - acc: 0.6367 - f1_m: 0.6036 - precision_m: 0.6788 - recall_m: 0.543 - ETA: 4s - loss: 0.7994 - acc: 0.6366 - f1_m: 0.6036 - precision_m: 0.6792 - recall_m: 0.543 - ETA: 4s - loss: 0.7986 - acc: 0.6370 - f1_m: 0.6038 - precision_m: 0.6800 - recall_m: 0.543 - ETA: 4s - loss: 0.7985 - acc: 0.6365 - f1_m: 0.6028 - precision_m: 0.6797 - recall_m: 0.542 - ETA: 4s - loss: 0.7999 - acc: 0.6363 - f1_m: 0.6014 - precision_m: 0.6794 - recall_m: 0.540 - ETA: 3s - loss: 0.7989 - acc: 0.6373 - f1_m: 0.6028 - precision_m: 0.6814 - recall_m: 0.541 - ETA: 3s - loss: 0.7998 - acc: 0.6369 - f1_m: 0.6019 - precision_m: 0.6806 - recall_m: 0.540 - ETA: 3s - loss: 0.7994 - acc: 0.6369 - f1_m: 0.6020 - precision_m: 0.6809 - recall_m: 0.540 - ETA: 3s - loss: 0.8001 - acc: 0.6361 - f1_m: 0.6008 - precision_m: 0.6796 - recall_m: 0.539 - ETA: 2s - loss: 0.8002 - acc: 0.6361 - f1_m: 0.6011 - precision_m: 0.6800 - recall_m: 0.539 - ETA: 2s - loss: 0.8003 - acc: 0.6363 - f1_m: 0.6010 - precision_m: 0.6804 - recall_m: 0.538 - ETA: 2s - loss: 0.8001 - acc: 0.6371 - f1_m: 0.6011 - precision_m: 0.6812 - recall_m: 0.538 - ETA: 2s - loss: 0.7996 - acc: 0.6376 - f1_m: 0.6018 - precision_m: 0.6814 - recall_m: 0.539 - ETA: 2s - loss: 0.8007 - acc: 0.6363 - f1_m: 0.6007 - precision_m: 0.6800 - recall_m: 0.538 - ETA: 1s - loss: 0.8009 - acc: 0.6362 - f1_m: 0.6005 - precision_m: 0.6796 - recall_m: 0.538 - ETA: 1s - loss: 0.8002 - acc: 0.6365 - f1_m: 0.6007 - precision_m: 0.6798 - recall_m: 0.538 - ETA: 1s - loss: 0.7999 - acc: 0.6367 - f1_m: 0.6009 - precision_m: 0.6807 - recall_m: 0.538 - ETA: 1s - loss: 0.8000 - acc: 0.6366 - f1_m: 0.6009 - precision_m: 0.6809 - recall_m: 0.538 - ETA: 1s - loss: 0.7990 - acc: 0.6376 - f1_m: 0.6019 - precision_m: 0.6816 - recall_m: 0.539 - ETA: 0s - loss: 0.7988 - acc: 0.6374 - f1_m: 0.6019 - precision_m: 0.6815 - recall_m: 0.539 - ETA: 0s - loss: 0.7993 - acc: 0.6362 - f1_m: 0.6011 - precision_m: 0.6804 - recall_m: 0.539 - ETA: 0s - loss: 0.7991 - acc: 0.6363 - f1_m: 0.6010 - precision_m: 0.6800 - recall_m: 0.539 - ETA: 0s - loss: 0.7991 - acc: 0.6359 - f1_m: 0.6008 - precision_m: 0.6795 - recall_m: 0.539 - ETA: 0s - loss: 0.7993 - acc: 0.6359 - f1_m: 0.6012 - precision_m: 0.6795 - recall_m: 0.539 - 13s 830us/step - loss: 0.7988 - acc: 0.6360 - f1_m: 0.6014 - precision_m: 0.6797 - recall_m: 0.5400\n",
      "\n",
      "Epoch 00004: loss improved from 0.84360 to 0.79881, saving model to lstm.hdf5\n",
      "Epoch 5/15\n"
     ]
    },
    {
     "name": "stdout",
     "output_type": "stream",
     "text": [
      "15131/15131 [==============================] - ETA: 12s - loss: 0.7215 - acc: 0.6758 - f1_m: 0.6694 - precision_m: 0.7056 - recall_m: 0.63 - ETA: 12s - loss: 0.7596 - acc: 0.6504 - f1_m: 0.6364 - precision_m: 0.6808 - recall_m: 0.59 - ETA: 11s - loss: 0.7529 - acc: 0.6484 - f1_m: 0.6316 - precision_m: 0.6766 - recall_m: 0.59 - ETA: 11s - loss: 0.7430 - acc: 0.6602 - f1_m: 0.6404 - precision_m: 0.6900 - recall_m: 0.59 - ETA: 11s - loss: 0.7377 - acc: 0.6625 - f1_m: 0.6448 - precision_m: 0.6950 - recall_m: 0.60 - ETA: 11s - loss: 0.7386 - acc: 0.6615 - f1_m: 0.6457 - precision_m: 0.6952 - recall_m: 0.60 - ETA: 10s - loss: 0.7387 - acc: 0.6635 - f1_m: 0.6473 - precision_m: 0.6984 - recall_m: 0.60 - ETA: 10s - loss: 0.7505 - acc: 0.6616 - f1_m: 0.6430 - precision_m: 0.7000 - recall_m: 0.59 - ETA: 10s - loss: 0.7468 - acc: 0.6667 - f1_m: 0.6476 - precision_m: 0.7034 - recall_m: 0.60 - ETA: 10s - loss: 0.7576 - acc: 0.6586 - f1_m: 0.6403 - precision_m: 0.6954 - recall_m: 0.59 - ETA: 9s - loss: 0.7619 - acc: 0.6570 - f1_m: 0.6396 - precision_m: 0.6957 - recall_m: 0.5923 - ETA: 9s - loss: 0.7633 - acc: 0.6598 - f1_m: 0.6398 - precision_m: 0.6965 - recall_m: 0.592 - ETA: 9s - loss: 0.7711 - acc: 0.6559 - f1_m: 0.6355 - precision_m: 0.6951 - recall_m: 0.585 - ETA: 9s - loss: 0.7723 - acc: 0.6546 - f1_m: 0.6335 - precision_m: 0.6943 - recall_m: 0.583 - ETA: 9s - loss: 0.7724 - acc: 0.6526 - f1_m: 0.6322 - precision_m: 0.6921 - recall_m: 0.582 - ETA: 8s - loss: 0.7696 - acc: 0.6543 - f1_m: 0.6331 - precision_m: 0.6934 - recall_m: 0.583 - ETA: 8s - loss: 0.7697 - acc: 0.6544 - f1_m: 0.6340 - precision_m: 0.6937 - recall_m: 0.584 - ETA: 8s - loss: 0.7674 - acc: 0.6562 - f1_m: 0.6361 - precision_m: 0.6947 - recall_m: 0.587 - ETA: 8s - loss: 0.7680 - acc: 0.6575 - f1_m: 0.6364 - precision_m: 0.6945 - recall_m: 0.587 - ETA: 8s - loss: 0.7658 - acc: 0.6592 - f1_m: 0.6367 - precision_m: 0.6958 - recall_m: 0.587 - ETA: 7s - loss: 0.7656 - acc: 0.6572 - f1_m: 0.6363 - precision_m: 0.6958 - recall_m: 0.586 - ETA: 7s - loss: 0.7663 - acc: 0.6575 - f1_m: 0.6354 - precision_m: 0.6960 - recall_m: 0.585 - ETA: 7s - loss: 0.7642 - acc: 0.6590 - f1_m: 0.6366 - precision_m: 0.6980 - recall_m: 0.585 - ETA: 7s - loss: 0.7648 - acc: 0.6585 - f1_m: 0.6366 - precision_m: 0.6977 - recall_m: 0.585 - ETA: 7s - loss: 0.7677 - acc: 0.6553 - f1_m: 0.6336 - precision_m: 0.6941 - recall_m: 0.583 - ETA: 6s - loss: 0.7665 - acc: 0.6556 - f1_m: 0.6333 - precision_m: 0.6935 - recall_m: 0.583 - ETA: 6s - loss: 0.7622 - acc: 0.6587 - f1_m: 0.6363 - precision_m: 0.6963 - recall_m: 0.586 - ETA: 6s - loss: 0.7623 - acc: 0.6588 - f1_m: 0.6362 - precision_m: 0.6961 - recall_m: 0.586 - ETA: 6s - loss: 0.7598 - acc: 0.6595 - f1_m: 0.6376 - precision_m: 0.6979 - recall_m: 0.587 - ETA: 6s - loss: 0.7581 - acc: 0.6599 - f1_m: 0.6383 - precision_m: 0.6987 - recall_m: 0.588 - ETA: 5s - loss: 0.7575 - acc: 0.6597 - f1_m: 0.6376 - precision_m: 0.6990 - recall_m: 0.586 - ETA: 5s - loss: 0.7580 - acc: 0.6605 - f1_m: 0.6382 - precision_m: 0.6998 - recall_m: 0.587 - ETA: 5s - loss: 0.7566 - acc: 0.6618 - f1_m: 0.6391 - precision_m: 0.7015 - recall_m: 0.587 - ETA: 5s - loss: 0.7557 - acc: 0.6619 - f1_m: 0.6393 - precision_m: 0.7016 - recall_m: 0.587 - ETA: 5s - loss: 0.7565 - acc: 0.6615 - f1_m: 0.6386 - precision_m: 0.7003 - recall_m: 0.587 - ETA: 4s - loss: 0.7558 - acc: 0.6613 - f1_m: 0.6388 - precision_m: 0.7002 - recall_m: 0.587 - ETA: 4s - loss: 0.7562 - acc: 0.6614 - f1_m: 0.6392 - precision_m: 0.7005 - recall_m: 0.588 - ETA: 4s - loss: 0.7567 - acc: 0.6610 - f1_m: 0.6396 - precision_m: 0.7008 - recall_m: 0.588 - ETA: 4s - loss: 0.7575 - acc: 0.6600 - f1_m: 0.6382 - precision_m: 0.6995 - recall_m: 0.587 - ETA: 3s - loss: 0.7576 - acc: 0.6597 - f1_m: 0.6379 - precision_m: 0.6994 - recall_m: 0.586 - ETA: 3s - loss: 0.7580 - acc: 0.6601 - f1_m: 0.6381 - precision_m: 0.6995 - recall_m: 0.587 - ETA: 3s - loss: 0.7573 - acc: 0.6599 - f1_m: 0.6383 - precision_m: 0.6998 - recall_m: 0.587 - ETA: 3s - loss: 0.7563 - acc: 0.6608 - f1_m: 0.6391 - precision_m: 0.7005 - recall_m: 0.587 - ETA: 3s - loss: 0.7553 - acc: 0.6616 - f1_m: 0.6392 - precision_m: 0.7008 - recall_m: 0.587 - ETA: 2s - loss: 0.7546 - acc: 0.6617 - f1_m: 0.6394 - precision_m: 0.7009 - recall_m: 0.588 - ETA: 2s - loss: 0.7541 - acc: 0.6619 - f1_m: 0.6401 - precision_m: 0.7018 - recall_m: 0.588 - ETA: 2s - loss: 0.7539 - acc: 0.6622 - f1_m: 0.6399 - precision_m: 0.7016 - recall_m: 0.588 - ETA: 2s - loss: 0.7546 - acc: 0.6616 - f1_m: 0.6392 - precision_m: 0.7009 - recall_m: 0.587 - ETA: 2s - loss: 0.7574 - acc: 0.6599 - f1_m: 0.6378 - precision_m: 0.6996 - recall_m: 0.586 - ETA: 1s - loss: 0.7581 - acc: 0.6597 - f1_m: 0.6373 - precision_m: 0.6991 - recall_m: 0.585 - ETA: 1s - loss: 0.7571 - acc: 0.6600 - f1_m: 0.6375 - precision_m: 0.6994 - recall_m: 0.586 - ETA: 1s - loss: 0.7573 - acc: 0.6595 - f1_m: 0.6369 - precision_m: 0.6983 - recall_m: 0.585 - ETA: 1s - loss: 0.7560 - acc: 0.6607 - f1_m: 0.6380 - precision_m: 0.6997 - recall_m: 0.586 - ETA: 1s - loss: 0.7561 - acc: 0.6605 - f1_m: 0.6377 - precision_m: 0.6993 - recall_m: 0.586 - ETA: 0s - loss: 0.7560 - acc: 0.6607 - f1_m: 0.6377 - precision_m: 0.6990 - recall_m: 0.586 - ETA: 0s - loss: 0.7563 - acc: 0.6609 - f1_m: 0.6379 - precision_m: 0.6992 - recall_m: 0.586 - ETA: 0s - loss: 0.7570 - acc: 0.6602 - f1_m: 0.6373 - precision_m: 0.6987 - recall_m: 0.586 - ETA: 0s - loss: 0.7582 - acc: 0.6591 - f1_m: 0.6362 - precision_m: 0.6973 - recall_m: 0.585 - ETA: 0s - loss: 0.7584 - acc: 0.6588 - f1_m: 0.6359 - precision_m: 0.6975 - recall_m: 0.584 - 12s 822us/step - loss: 0.7585 - acc: 0.6588 - f1_m: 0.6360 - precision_m: 0.6975 - recall_m: 0.5848\n",
      "\n",
      "Epoch 00005: loss improved from 0.79881 to 0.75851, saving model to lstm.hdf5\n",
      "Epoch 6/15\n"
     ]
    },
    {
     "name": "stdout",
     "output_type": "stream",
     "text": [
      "15131/15131 [==============================] - ETA: 11s - loss: 0.7617 - acc: 0.6758 - f1_m: 0.6552 - precision_m: 0.7251 - recall_m: 0.59 - ETA: 11s - loss: 0.7209 - acc: 0.6875 - f1_m: 0.6617 - precision_m: 0.7478 - recall_m: 0.59 - ETA: 11s - loss: 0.6894 - acc: 0.7044 - f1_m: 0.6786 - precision_m: 0.7620 - recall_m: 0.61 - ETA: 11s - loss: 0.6978 - acc: 0.6982 - f1_m: 0.6719 - precision_m: 0.7600 - recall_m: 0.60 - ETA: 11s - loss: 0.7007 - acc: 0.6930 - f1_m: 0.6675 - precision_m: 0.7514 - recall_m: 0.60 - ETA: 10s - loss: 0.7006 - acc: 0.6908 - f1_m: 0.6659 - precision_m: 0.7501 - recall_m: 0.59 - ETA: 10s - loss: 0.7087 - acc: 0.6886 - f1_m: 0.6615 - precision_m: 0.7429 - recall_m: 0.59 - ETA: 10s - loss: 0.7135 - acc: 0.6880 - f1_m: 0.6611 - precision_m: 0.7382 - recall_m: 0.59 - ETA: 10s - loss: 0.7071 - acc: 0.6884 - f1_m: 0.6639 - precision_m: 0.7383 - recall_m: 0.60 - ETA: 10s - loss: 0.7115 - acc: 0.6859 - f1_m: 0.6614 - precision_m: 0.7340 - recall_m: 0.60 - ETA: 10s - loss: 0.7145 - acc: 0.6839 - f1_m: 0.6605 - precision_m: 0.7309 - recall_m: 0.60 - ETA: 10s - loss: 0.7185 - acc: 0.6826 - f1_m: 0.6611 - precision_m: 0.7298 - recall_m: 0.60 - ETA: 9s - loss: 0.7232 - acc: 0.6803 - f1_m: 0.6603 - precision_m: 0.7271 - recall_m: 0.6055 - ETA: 9s - loss: 0.7230 - acc: 0.6808 - f1_m: 0.6613 - precision_m: 0.7277 - recall_m: 0.606 - ETA: 9s - loss: 0.7200 - acc: 0.6836 - f1_m: 0.6636 - precision_m: 0.7285 - recall_m: 0.609 - ETA: 9s - loss: 0.7199 - acc: 0.6841 - f1_m: 0.6630 - precision_m: 0.7274 - recall_m: 0.609 - ETA: 9s - loss: 0.7183 - acc: 0.6873 - f1_m: 0.6652 - precision_m: 0.7302 - recall_m: 0.611 - ETA: 8s - loss: 0.7166 - acc: 0.6875 - f1_m: 0.6657 - precision_m: 0.7305 - recall_m: 0.612 - ETA: 8s - loss: 0.7140 - acc: 0.6898 - f1_m: 0.6672 - precision_m: 0.7318 - recall_m: 0.613 - ETA: 8s - loss: 0.7098 - acc: 0.6936 - f1_m: 0.6706 - precision_m: 0.7352 - recall_m: 0.617 - ETA: 8s - loss: 0.7073 - acc: 0.6949 - f1_m: 0.6721 - precision_m: 0.7360 - recall_m: 0.618 - ETA: 7s - loss: 0.7051 - acc: 0.6971 - f1_m: 0.6742 - precision_m: 0.7383 - recall_m: 0.620 - ETA: 7s - loss: 0.7050 - acc: 0.6974 - f1_m: 0.6748 - precision_m: 0.7382 - recall_m: 0.621 - ETA: 7s - loss: 0.7079 - acc: 0.6948 - f1_m: 0.6729 - precision_m: 0.7356 - recall_m: 0.620 - ETA: 7s - loss: 0.7096 - acc: 0.6945 - f1_m: 0.6732 - precision_m: 0.7351 - recall_m: 0.621 - ETA: 6s - loss: 0.7080 - acc: 0.6947 - f1_m: 0.6738 - precision_m: 0.7347 - recall_m: 0.622 - ETA: 6s - loss: 0.7053 - acc: 0.6965 - f1_m: 0.6757 - precision_m: 0.7361 - recall_m: 0.625 - ETA: 6s - loss: 0.7038 - acc: 0.6960 - f1_m: 0.6760 - precision_m: 0.7357 - recall_m: 0.625 - ETA: 6s - loss: 0.7049 - acc: 0.6960 - f1_m: 0.6764 - precision_m: 0.7351 - recall_m: 0.626 - ETA: 6s - loss: 0.7048 - acc: 0.6949 - f1_m: 0.6759 - precision_m: 0.7341 - recall_m: 0.626 - ETA: 5s - loss: 0.7054 - acc: 0.6947 - f1_m: 0.6760 - precision_m: 0.7337 - recall_m: 0.627 - ETA: 5s - loss: 0.7060 - acc: 0.6938 - f1_m: 0.6755 - precision_m: 0.7331 - recall_m: 0.626 - ETA: 5s - loss: 0.7033 - acc: 0.6948 - f1_m: 0.6766 - precision_m: 0.7339 - recall_m: 0.628 - ETA: 5s - loss: 0.7045 - acc: 0.6943 - f1_m: 0.6761 - precision_m: 0.7339 - recall_m: 0.627 - ETA: 5s - loss: 0.7031 - acc: 0.6964 - f1_m: 0.6782 - precision_m: 0.7355 - recall_m: 0.629 - ETA: 4s - loss: 0.7009 - acc: 0.6974 - f1_m: 0.6798 - precision_m: 0.7367 - recall_m: 0.631 - ETA: 4s - loss: 0.6997 - acc: 0.6983 - f1_m: 0.6809 - precision_m: 0.7372 - recall_m: 0.633 - ETA: 4s - loss: 0.7011 - acc: 0.6978 - f1_m: 0.6804 - precision_m: 0.7361 - recall_m: 0.633 - ETA: 4s - loss: 0.7010 - acc: 0.6980 - f1_m: 0.6808 - precision_m: 0.7361 - recall_m: 0.633 - ETA: 4s - loss: 0.6988 - acc: 0.6989 - f1_m: 0.6820 - precision_m: 0.7368 - recall_m: 0.635 - ETA: 3s - loss: 0.6992 - acc: 0.6980 - f1_m: 0.6812 - precision_m: 0.7358 - recall_m: 0.634 - ETA: 3s - loss: 0.7003 - acc: 0.6972 - f1_m: 0.6803 - precision_m: 0.7347 - recall_m: 0.633 - ETA: 3s - loss: 0.7023 - acc: 0.6955 - f1_m: 0.6784 - precision_m: 0.7329 - recall_m: 0.632 - ETA: 3s - loss: 0.7027 - acc: 0.6955 - f1_m: 0.6777 - precision_m: 0.7327 - recall_m: 0.630 - ETA: 3s - loss: 0.7011 - acc: 0.6970 - f1_m: 0.6789 - precision_m: 0.7336 - recall_m: 0.632 - ETA: 2s - loss: 0.7002 - acc: 0.6973 - f1_m: 0.6794 - precision_m: 0.7341 - recall_m: 0.632 - ETA: 2s - loss: 0.7007 - acc: 0.6969 - f1_m: 0.6790 - precision_m: 0.7334 - recall_m: 0.632 - ETA: 2s - loss: 0.7010 - acc: 0.6968 - f1_m: 0.6790 - precision_m: 0.7333 - recall_m: 0.632 - ETA: 2s - loss: 0.7019 - acc: 0.6964 - f1_m: 0.6787 - precision_m: 0.7331 - recall_m: 0.632 - ETA: 1s - loss: 0.7011 - acc: 0.6970 - f1_m: 0.6791 - precision_m: 0.7336 - recall_m: 0.632 - ETA: 1s - loss: 0.7027 - acc: 0.6952 - f1_m: 0.6774 - precision_m: 0.7321 - recall_m: 0.630 - ETA: 1s - loss: 0.7025 - acc: 0.6946 - f1_m: 0.6772 - precision_m: 0.7319 - recall_m: 0.630 - ETA: 1s - loss: 0.7020 - acc: 0.6947 - f1_m: 0.6768 - precision_m: 0.7317 - recall_m: 0.630 - ETA: 1s - loss: 0.7018 - acc: 0.6947 - f1_m: 0.6763 - precision_m: 0.7311 - recall_m: 0.629 - ETA: 0s - loss: 0.7008 - acc: 0.6952 - f1_m: 0.6769 - precision_m: 0.7321 - recall_m: 0.629 - ETA: 0s - loss: 0.7018 - acc: 0.6945 - f1_m: 0.6763 - precision_m: 0.7319 - recall_m: 0.629 - ETA: 0s - loss: 0.7032 - acc: 0.6936 - f1_m: 0.6756 - precision_m: 0.7310 - recall_m: 0.628 - ETA: 0s - loss: 0.7031 - acc: 0.6938 - f1_m: 0.6753 - precision_m: 0.7309 - recall_m: 0.628 - ETA: 0s - loss: 0.7035 - acc: 0.6937 - f1_m: 0.6750 - precision_m: 0.7305 - recall_m: 0.627 - 13s 846us/step - loss: 0.7037 - acc: 0.6936 - f1_m: 0.6750 - precision_m: 0.7305 - recall_m: 0.6278\n",
      "\n",
      "Epoch 00006: loss improved from 0.75851 to 0.70368, saving model to lstm.hdf5\n",
      "Epoch 7/15\n"
     ]
    },
    {
     "name": "stdout",
     "output_type": "stream",
     "text": [
      "15131/15131 [==============================] - ETA: 13s - loss: 0.5993 - acc: 0.7734 - f1_m: 0.7589 - precision_m: 0.8190 - recall_m: 0.70 - ETA: 12s - loss: 0.6238 - acc: 0.7539 - f1_m: 0.7222 - precision_m: 0.7949 - recall_m: 0.66 - ETA: 12s - loss: 0.6424 - acc: 0.7461 - f1_m: 0.7151 - precision_m: 0.7878 - recall_m: 0.65 - ETA: 11s - loss: 0.6474 - acc: 0.7314 - f1_m: 0.7075 - precision_m: 0.7747 - recall_m: 0.65 - ETA: 11s - loss: 0.6533 - acc: 0.7281 - f1_m: 0.7039 - precision_m: 0.7712 - recall_m: 0.64 - ETA: 11s - loss: 0.6534 - acc: 0.7227 - f1_m: 0.7042 - precision_m: 0.7689 - recall_m: 0.64 - ETA: 11s - loss: 0.6597 - acc: 0.7193 - f1_m: 0.7047 - precision_m: 0.7704 - recall_m: 0.64 - ETA: 10s - loss: 0.6589 - acc: 0.7183 - f1_m: 0.7034 - precision_m: 0.7676 - recall_m: 0.64 - ETA: 10s - loss: 0.6518 - acc: 0.7231 - f1_m: 0.7093 - precision_m: 0.7751 - recall_m: 0.65 - ETA: 10s - loss: 0.6574 - acc: 0.7191 - f1_m: 0.7059 - precision_m: 0.7715 - recall_m: 0.65 - ETA: 10s - loss: 0.6507 - acc: 0.7234 - f1_m: 0.7095 - precision_m: 0.7735 - recall_m: 0.65 - ETA: 9s - loss: 0.6508 - acc: 0.7210 - f1_m: 0.7083 - precision_m: 0.7711 - recall_m: 0.6553 - ETA: 9s - loss: 0.6517 - acc: 0.7221 - f1_m: 0.7102 - precision_m: 0.7720 - recall_m: 0.657 - ETA: 9s - loss: 0.6518 - acc: 0.7227 - f1_m: 0.7105 - precision_m: 0.7706 - recall_m: 0.659 - ETA: 9s - loss: 0.6469 - acc: 0.7242 - f1_m: 0.7121 - precision_m: 0.7700 - recall_m: 0.662 - ETA: 9s - loss: 0.6442 - acc: 0.7261 - f1_m: 0.7135 - precision_m: 0.7696 - recall_m: 0.665 - ETA: 8s - loss: 0.6424 - acc: 0.7245 - f1_m: 0.7124 - precision_m: 0.7674 - recall_m: 0.665 - ETA: 8s - loss: 0.6392 - acc: 0.7253 - f1_m: 0.7141 - precision_m: 0.7672 - recall_m: 0.668 - ETA: 8s - loss: 0.6412 - acc: 0.7247 - f1_m: 0.7137 - precision_m: 0.7657 - recall_m: 0.669 - ETA: 8s - loss: 0.6412 - acc: 0.7244 - f1_m: 0.7128 - precision_m: 0.7651 - recall_m: 0.667 - ETA: 8s - loss: 0.6467 - acc: 0.7219 - f1_m: 0.7103 - precision_m: 0.7620 - recall_m: 0.665 - ETA: 7s - loss: 0.6471 - acc: 0.7216 - f1_m: 0.7098 - precision_m: 0.7605 - recall_m: 0.666 - ETA: 7s - loss: 0.6431 - acc: 0.7238 - f1_m: 0.7128 - precision_m: 0.7624 - recall_m: 0.669 - ETA: 7s - loss: 0.6465 - acc: 0.7228 - f1_m: 0.7117 - precision_m: 0.7603 - recall_m: 0.669 - ETA: 7s - loss: 0.6490 - acc: 0.7216 - f1_m: 0.7108 - precision_m: 0.7585 - recall_m: 0.669 - ETA: 6s - loss: 0.6491 - acc: 0.7207 - f1_m: 0.7103 - precision_m: 0.7572 - recall_m: 0.669 - ETA: 6s - loss: 0.6492 - acc: 0.7206 - f1_m: 0.7104 - precision_m: 0.7567 - recall_m: 0.670 - ETA: 6s - loss: 0.6495 - acc: 0.7207 - f1_m: 0.7109 - precision_m: 0.7571 - recall_m: 0.670 - ETA: 6s - loss: 0.6509 - acc: 0.7213 - f1_m: 0.7113 - precision_m: 0.7576 - recall_m: 0.670 - ETA: 6s - loss: 0.6530 - acc: 0.7201 - f1_m: 0.7102 - precision_m: 0.7558 - recall_m: 0.670 - ETA: 5s - loss: 0.6539 - acc: 0.7195 - f1_m: 0.7098 - precision_m: 0.7555 - recall_m: 0.670 - ETA: 5s - loss: 0.6548 - acc: 0.7188 - f1_m: 0.7087 - precision_m: 0.7542 - recall_m: 0.668 - ETA: 5s - loss: 0.6553 - acc: 0.7192 - f1_m: 0.7086 - precision_m: 0.7544 - recall_m: 0.668 - ETA: 5s - loss: 0.6558 - acc: 0.7199 - f1_m: 0.7091 - precision_m: 0.7551 - recall_m: 0.669 - ETA: 5s - loss: 0.6550 - acc: 0.7199 - f1_m: 0.7082 - precision_m: 0.7547 - recall_m: 0.667 - ETA: 4s - loss: 0.6547 - acc: 0.7197 - f1_m: 0.7080 - precision_m: 0.7552 - recall_m: 0.667 - ETA: 4s - loss: 0.6555 - acc: 0.7195 - f1_m: 0.7073 - precision_m: 0.7550 - recall_m: 0.665 - ETA: 4s - loss: 0.6547 - acc: 0.7202 - f1_m: 0.7075 - precision_m: 0.7559 - recall_m: 0.665 - ETA: 4s - loss: 0.6557 - acc: 0.7198 - f1_m: 0.7067 - precision_m: 0.7557 - recall_m: 0.664 - ETA: 4s - loss: 0.6557 - acc: 0.7202 - f1_m: 0.7069 - precision_m: 0.7561 - recall_m: 0.664 - ETA: 3s - loss: 0.6545 - acc: 0.7211 - f1_m: 0.7074 - precision_m: 0.7570 - recall_m: 0.664 - ETA: 3s - loss: 0.6556 - acc: 0.7209 - f1_m: 0.7065 - precision_m: 0.7562 - recall_m: 0.663 - ETA: 3s - loss: 0.6564 - acc: 0.7213 - f1_m: 0.7067 - precision_m: 0.7567 - recall_m: 0.663 - ETA: 3s - loss: 0.6568 - acc: 0.7214 - f1_m: 0.7065 - precision_m: 0.7564 - recall_m: 0.663 - ETA: 3s - loss: 0.6581 - acc: 0.7211 - f1_m: 0.7061 - precision_m: 0.7562 - recall_m: 0.662 - ETA: 2s - loss: 0.6584 - acc: 0.7205 - f1_m: 0.7054 - precision_m: 0.7557 - recall_m: 0.661 - ETA: 2s - loss: 0.6603 - acc: 0.7188 - f1_m: 0.7039 - precision_m: 0.7538 - recall_m: 0.660 - ETA: 2s - loss: 0.6608 - acc: 0.7179 - f1_m: 0.7032 - precision_m: 0.7526 - recall_m: 0.660 - ETA: 2s - loss: 0.6615 - acc: 0.7170 - f1_m: 0.7024 - precision_m: 0.7516 - recall_m: 0.659 - ETA: 1s - loss: 0.6604 - acc: 0.7184 - f1_m: 0.7040 - precision_m: 0.7529 - recall_m: 0.661 - ETA: 1s - loss: 0.6603 - acc: 0.7181 - f1_m: 0.7035 - precision_m: 0.7523 - recall_m: 0.661 - ETA: 1s - loss: 0.6600 - acc: 0.7187 - f1_m: 0.7037 - precision_m: 0.7526 - recall_m: 0.661 - ETA: 1s - loss: 0.6594 - acc: 0.7183 - f1_m: 0.7037 - precision_m: 0.7521 - recall_m: 0.661 - ETA: 1s - loss: 0.6600 - acc: 0.7180 - f1_m: 0.7035 - precision_m: 0.7518 - recall_m: 0.661 - ETA: 0s - loss: 0.6600 - acc: 0.7181 - f1_m: 0.7035 - precision_m: 0.7519 - recall_m: 0.661 - ETA: 0s - loss: 0.6600 - acc: 0.7180 - f1_m: 0.7036 - precision_m: 0.7515 - recall_m: 0.662 - ETA: 0s - loss: 0.6617 - acc: 0.7171 - f1_m: 0.7026 - precision_m: 0.7504 - recall_m: 0.661 - ETA: 0s - loss: 0.6621 - acc: 0.7168 - f1_m: 0.7021 - precision_m: 0.7500 - recall_m: 0.660 - ETA: 0s - loss: 0.6622 - acc: 0.7166 - f1_m: 0.7022 - precision_m: 0.7501 - recall_m: 0.660 - 13s 847us/step - loss: 0.6619 - acc: 0.7167 - f1_m: 0.7024 - precision_m: 0.7502 - recall_m: 0.6608\n",
      "\n",
      "Epoch 00007: loss improved from 0.70368 to 0.66185, saving model to lstm.hdf5\n",
      "Epoch 8/15\n"
     ]
    },
    {
     "name": "stdout",
     "output_type": "stream",
     "text": [
      "15131/15131 [==============================] - ETA: 12s - loss: 0.5873 - acc: 0.7734 - f1_m: 0.7417 - precision_m: 0.7946 - recall_m: 0.69 - ETA: 12s - loss: 0.5931 - acc: 0.7539 - f1_m: 0.7354 - precision_m: 0.7879 - recall_m: 0.68 - ETA: 12s - loss: 0.5830 - acc: 0.7604 - f1_m: 0.7457 - precision_m: 0.7940 - recall_m: 0.70 - ETA: 12s - loss: 0.5761 - acc: 0.7607 - f1_m: 0.7494 - precision_m: 0.7972 - recall_m: 0.70 - ETA: 11s - loss: 0.5739 - acc: 0.7648 - f1_m: 0.7542 - precision_m: 0.8013 - recall_m: 0.71 - ETA: 11s - loss: 0.5742 - acc: 0.7630 - f1_m: 0.7522 - precision_m: 0.7978 - recall_m: 0.71 - ETA: 11s - loss: 0.5815 - acc: 0.7573 - f1_m: 0.7481 - precision_m: 0.7923 - recall_m: 0.70 - ETA: 11s - loss: 0.5880 - acc: 0.7510 - f1_m: 0.7403 - precision_m: 0.7824 - recall_m: 0.70 - ETA: 10s - loss: 0.5858 - acc: 0.7517 - f1_m: 0.7415 - precision_m: 0.7822 - recall_m: 0.70 - ETA: 10s - loss: 0.5863 - acc: 0.7512 - f1_m: 0.7408 - precision_m: 0.7809 - recall_m: 0.70 - ETA: 10s - loss: 0.5922 - acc: 0.7489 - f1_m: 0.7395 - precision_m: 0.7779 - recall_m: 0.70 - ETA: 10s - loss: 0.5851 - acc: 0.7520 - f1_m: 0.7427 - precision_m: 0.7803 - recall_m: 0.70 - ETA: 10s - loss: 0.5880 - acc: 0.7503 - f1_m: 0.7422 - precision_m: 0.7797 - recall_m: 0.70 - ETA: 9s - loss: 0.5847 - acc: 0.7511 - f1_m: 0.7435 - precision_m: 0.7815 - recall_m: 0.7093 - ETA: 9s - loss: 0.5811 - acc: 0.7547 - f1_m: 0.7471 - precision_m: 0.7847 - recall_m: 0.713 - ETA: 9s - loss: 0.5799 - acc: 0.7551 - f1_m: 0.7473 - precision_m: 0.7857 - recall_m: 0.712 - ETA: 9s - loss: 0.5805 - acc: 0.7546 - f1_m: 0.7466 - precision_m: 0.7855 - recall_m: 0.711 - ETA: 9s - loss: 0.5792 - acc: 0.7548 - f1_m: 0.7469 - precision_m: 0.7863 - recall_m: 0.711 - ETA: 8s - loss: 0.5778 - acc: 0.7545 - f1_m: 0.7468 - precision_m: 0.7855 - recall_m: 0.712 - ETA: 8s - loss: 0.5773 - acc: 0.7541 - f1_m: 0.7461 - precision_m: 0.7849 - recall_m: 0.711 - ETA: 8s - loss: 0.5788 - acc: 0.7552 - f1_m: 0.7471 - precision_m: 0.7855 - recall_m: 0.712 - ETA: 8s - loss: 0.5781 - acc: 0.7559 - f1_m: 0.7481 - precision_m: 0.7862 - recall_m: 0.713 - ETA: 8s - loss: 0.5798 - acc: 0.7551 - f1_m: 0.7476 - precision_m: 0.7854 - recall_m: 0.713 - ETA: 7s - loss: 0.5791 - acc: 0.7549 - f1_m: 0.7481 - precision_m: 0.7851 - recall_m: 0.714 - ETA: 7s - loss: 0.5800 - acc: 0.7552 - f1_m: 0.7483 - precision_m: 0.7846 - recall_m: 0.715 - ETA: 7s - loss: 0.5798 - acc: 0.7557 - f1_m: 0.7482 - precision_m: 0.7846 - recall_m: 0.715 - ETA: 7s - loss: 0.5818 - acc: 0.7536 - f1_m: 0.7461 - precision_m: 0.7822 - recall_m: 0.713 - ETA: 6s - loss: 0.5802 - acc: 0.7536 - f1_m: 0.7462 - precision_m: 0.7830 - recall_m: 0.712 - ETA: 6s - loss: 0.5838 - acc: 0.7527 - f1_m: 0.7453 - precision_m: 0.7820 - recall_m: 0.712 - ETA: 6s - loss: 0.5816 - acc: 0.7542 - f1_m: 0.7474 - precision_m: 0.7842 - recall_m: 0.714 - ETA: 6s - loss: 0.5803 - acc: 0.7545 - f1_m: 0.7477 - precision_m: 0.7844 - recall_m: 0.714 - ETA: 6s - loss: 0.5798 - acc: 0.7554 - f1_m: 0.7487 - precision_m: 0.7854 - recall_m: 0.715 - ETA: 5s - loss: 0.5812 - acc: 0.7546 - f1_m: 0.7480 - precision_m: 0.7840 - recall_m: 0.715 - ETA: 5s - loss: 0.5796 - acc: 0.7564 - f1_m: 0.7498 - precision_m: 0.7855 - recall_m: 0.717 - ETA: 5s - loss: 0.5804 - acc: 0.7562 - f1_m: 0.7497 - precision_m: 0.7854 - recall_m: 0.717 - ETA: 5s - loss: 0.5812 - acc: 0.7559 - f1_m: 0.7487 - precision_m: 0.7844 - recall_m: 0.716 - ETA: 4s - loss: 0.5839 - acc: 0.7545 - f1_m: 0.7472 - precision_m: 0.7831 - recall_m: 0.714 - ETA: 4s - loss: 0.5829 - acc: 0.7553 - f1_m: 0.7480 - precision_m: 0.7839 - recall_m: 0.715 - ETA: 4s - loss: 0.5825 - acc: 0.7547 - f1_m: 0.7474 - precision_m: 0.7837 - recall_m: 0.714 - ETA: 4s - loss: 0.5844 - acc: 0.7541 - f1_m: 0.7466 - precision_m: 0.7832 - recall_m: 0.713 - ETA: 3s - loss: 0.5835 - acc: 0.7550 - f1_m: 0.7476 - precision_m: 0.7840 - recall_m: 0.714 - ETA: 3s - loss: 0.5855 - acc: 0.7547 - f1_m: 0.7471 - precision_m: 0.7833 - recall_m: 0.714 - ETA: 3s - loss: 0.5881 - acc: 0.7535 - f1_m: 0.7456 - precision_m: 0.7817 - recall_m: 0.712 - ETA: 3s - loss: 0.5877 - acc: 0.7536 - f1_m: 0.7456 - precision_m: 0.7816 - recall_m: 0.712 - ETA: 3s - loss: 0.5885 - acc: 0.7536 - f1_m: 0.7457 - precision_m: 0.7817 - recall_m: 0.713 - ETA: 2s - loss: 0.5910 - acc: 0.7525 - f1_m: 0.7446 - precision_m: 0.7806 - recall_m: 0.712 - ETA: 2s - loss: 0.5922 - acc: 0.7525 - f1_m: 0.7443 - precision_m: 0.7804 - recall_m: 0.711 - ETA: 2s - loss: 0.5924 - acc: 0.7522 - f1_m: 0.7440 - precision_m: 0.7801 - recall_m: 0.711 - ETA: 2s - loss: 0.5923 - acc: 0.7520 - f1_m: 0.7439 - precision_m: 0.7804 - recall_m: 0.710 - ETA: 1s - loss: 0.5930 - acc: 0.7523 - f1_m: 0.7441 - precision_m: 0.7806 - recall_m: 0.711 - ETA: 1s - loss: 0.5944 - acc: 0.7510 - f1_m: 0.7429 - precision_m: 0.7795 - recall_m: 0.709 - ETA: 1s - loss: 0.5946 - acc: 0.7507 - f1_m: 0.7424 - precision_m: 0.7792 - recall_m: 0.709 - ETA: 1s - loss: 0.5951 - acc: 0.7505 - f1_m: 0.7425 - precision_m: 0.7794 - recall_m: 0.709 - ETA: 1s - loss: 0.5970 - acc: 0.7500 - f1_m: 0.7417 - precision_m: 0.7790 - recall_m: 0.708 - ETA: 0s - loss: 0.5962 - acc: 0.7509 - f1_m: 0.7423 - precision_m: 0.7799 - recall_m: 0.708 - ETA: 0s - loss: 0.5964 - acc: 0.7510 - f1_m: 0.7422 - precision_m: 0.7805 - recall_m: 0.707 - ETA: 0s - loss: 0.5963 - acc: 0.7510 - f1_m: 0.7421 - precision_m: 0.7805 - recall_m: 0.707 - ETA: 0s - loss: 0.5968 - acc: 0.7509 - f1_m: 0.7420 - precision_m: 0.7806 - recall_m: 0.707 - ETA: 0s - loss: 0.5966 - acc: 0.7508 - f1_m: 0.7420 - precision_m: 0.7809 - recall_m: 0.707 - 13s 861us/step - loss: 0.5966 - acc: 0.7510 - f1_m: 0.7422 - precision_m: 0.7810 - recall_m: 0.7072\n",
      "\n",
      "Epoch 00008: loss improved from 0.66185 to 0.59660, saving model to lstm.hdf5\n",
      "Epoch 9/15\n"
     ]
    },
    {
     "name": "stdout",
     "output_type": "stream",
     "text": [
      "15131/15131 [==============================] - ETA: 11s - loss: 0.5617 - acc: 0.7852 - f1_m: 0.7705 - precision_m: 0.8103 - recall_m: 0.73 - ETA: 11s - loss: 0.5617 - acc: 0.7734 - f1_m: 0.7664 - precision_m: 0.8060 - recall_m: 0.73 - ETA: 11s - loss: 0.5479 - acc: 0.7812 - f1_m: 0.7749 - precision_m: 0.8137 - recall_m: 0.73 - ETA: 11s - loss: 0.5516 - acc: 0.7773 - f1_m: 0.7726 - precision_m: 0.8103 - recall_m: 0.73 - ETA: 11s - loss: 0.5443 - acc: 0.7789 - f1_m: 0.7746 - precision_m: 0.8129 - recall_m: 0.73 - ETA: 10s - loss: 0.5523 - acc: 0.7695 - f1_m: 0.7662 - precision_m: 0.8049 - recall_m: 0.73 - ETA: 10s - loss: 0.5480 - acc: 0.7746 - f1_m: 0.7697 - precision_m: 0.8079 - recall_m: 0.73 - ETA: 10s - loss: 0.5471 - acc: 0.7783 - f1_m: 0.7719 - precision_m: 0.8089 - recall_m: 0.73 - ETA: 10s - loss: 0.5427 - acc: 0.7756 - f1_m: 0.7703 - precision_m: 0.8079 - recall_m: 0.73 - ETA: 10s - loss: 0.5379 - acc: 0.7797 - f1_m: 0.7746 - precision_m: 0.8109 - recall_m: 0.74 - ETA: 10s - loss: 0.5360 - acc: 0.7823 - f1_m: 0.7779 - precision_m: 0.8148 - recall_m: 0.74 - ETA: 9s - loss: 0.5320 - acc: 0.7865 - f1_m: 0.7805 - precision_m: 0.8172 - recall_m: 0.7471 - ETA: 9s - loss: 0.5282 - acc: 0.7861 - f1_m: 0.7808 - precision_m: 0.8161 - recall_m: 0.748 - ETA: 9s - loss: 0.5286 - acc: 0.7871 - f1_m: 0.7813 - precision_m: 0.8161 - recall_m: 0.749 - ETA: 9s - loss: 0.5292 - acc: 0.7875 - f1_m: 0.7818 - precision_m: 0.8153 - recall_m: 0.751 - ETA: 9s - loss: 0.5261 - acc: 0.7881 - f1_m: 0.7826 - precision_m: 0.8151 - recall_m: 0.752 - ETA: 8s - loss: 0.5306 - acc: 0.7863 - f1_m: 0.7808 - precision_m: 0.8136 - recall_m: 0.750 - ETA: 8s - loss: 0.5318 - acc: 0.7871 - f1_m: 0.7806 - precision_m: 0.8137 - recall_m: 0.750 - ETA: 8s - loss: 0.5293 - acc: 0.7891 - f1_m: 0.7818 - precision_m: 0.8150 - recall_m: 0.751 - ETA: 8s - loss: 0.5314 - acc: 0.7889 - f1_m: 0.7819 - precision_m: 0.8150 - recall_m: 0.751 - ETA: 8s - loss: 0.5268 - acc: 0.7913 - f1_m: 0.7837 - precision_m: 0.8173 - recall_m: 0.753 - ETA: 7s - loss: 0.5248 - acc: 0.7914 - f1_m: 0.7838 - precision_m: 0.8180 - recall_m: 0.752 - ETA: 7s - loss: 0.5284 - acc: 0.7892 - f1_m: 0.7822 - precision_m: 0.8160 - recall_m: 0.751 - ETA: 7s - loss: 0.5298 - acc: 0.7881 - f1_m: 0.7811 - precision_m: 0.8150 - recall_m: 0.750 - ETA: 7s - loss: 0.5316 - acc: 0.7869 - f1_m: 0.7799 - precision_m: 0.8138 - recall_m: 0.748 - ETA: 6s - loss: 0.5329 - acc: 0.7868 - f1_m: 0.7802 - precision_m: 0.8141 - recall_m: 0.749 - ETA: 6s - loss: 0.5324 - acc: 0.7870 - f1_m: 0.7808 - precision_m: 0.8145 - recall_m: 0.749 - ETA: 6s - loss: 0.5328 - acc: 0.7860 - f1_m: 0.7798 - precision_m: 0.8143 - recall_m: 0.748 - ETA: 6s - loss: 0.5327 - acc: 0.7862 - f1_m: 0.7798 - precision_m: 0.8144 - recall_m: 0.748 - ETA: 6s - loss: 0.5320 - acc: 0.7865 - f1_m: 0.7800 - precision_m: 0.8144 - recall_m: 0.748 - ETA: 5s - loss: 0.5341 - acc: 0.7865 - f1_m: 0.7801 - precision_m: 0.8141 - recall_m: 0.748 - ETA: 5s - loss: 0.5330 - acc: 0.7881 - f1_m: 0.7817 - precision_m: 0.8154 - recall_m: 0.751 - ETA: 5s - loss: 0.5339 - acc: 0.7876 - f1_m: 0.7814 - precision_m: 0.8149 - recall_m: 0.750 - ETA: 5s - loss: 0.5367 - acc: 0.7853 - f1_m: 0.7793 - precision_m: 0.8125 - recall_m: 0.748 - ETA: 5s - loss: 0.5376 - acc: 0.7853 - f1_m: 0.7790 - precision_m: 0.8119 - recall_m: 0.748 - ETA: 4s - loss: 0.5379 - acc: 0.7842 - f1_m: 0.7779 - precision_m: 0.8110 - recall_m: 0.747 - ETA: 4s - loss: 0.5376 - acc: 0.7843 - f1_m: 0.7779 - precision_m: 0.8111 - recall_m: 0.747 - ETA: 4s - loss: 0.5370 - acc: 0.7846 - f1_m: 0.7780 - precision_m: 0.8112 - recall_m: 0.747 - ETA: 4s - loss: 0.5382 - acc: 0.7835 - f1_m: 0.7769 - precision_m: 0.8104 - recall_m: 0.746 - ETA: 4s - loss: 0.5372 - acc: 0.7837 - f1_m: 0.7773 - precision_m: 0.8108 - recall_m: 0.746 - ETA: 3s - loss: 0.5370 - acc: 0.7837 - f1_m: 0.7770 - precision_m: 0.8107 - recall_m: 0.746 - ETA: 3s - loss: 0.5375 - acc: 0.7836 - f1_m: 0.7770 - precision_m: 0.8109 - recall_m: 0.745 - ETA: 3s - loss: 0.5373 - acc: 0.7840 - f1_m: 0.7774 - precision_m: 0.8110 - recall_m: 0.746 - ETA: 3s - loss: 0.5391 - acc: 0.7829 - f1_m: 0.7764 - precision_m: 0.8102 - recall_m: 0.745 - ETA: 3s - loss: 0.5390 - acc: 0.7827 - f1_m: 0.7760 - precision_m: 0.8098 - recall_m: 0.745 - ETA: 2s - loss: 0.5393 - acc: 0.7825 - f1_m: 0.7759 - precision_m: 0.8095 - recall_m: 0.745 - ETA: 2s - loss: 0.5392 - acc: 0.7826 - f1_m: 0.7761 - precision_m: 0.8095 - recall_m: 0.745 - ETA: 2s - loss: 0.5377 - acc: 0.7831 - f1_m: 0.7765 - precision_m: 0.8100 - recall_m: 0.745 - ETA: 2s - loss: 0.5375 - acc: 0.7835 - f1_m: 0.7771 - precision_m: 0.8104 - recall_m: 0.746 - ETA: 1s - loss: 0.5372 - acc: 0.7832 - f1_m: 0.7768 - precision_m: 0.8102 - recall_m: 0.746 - ETA: 1s - loss: 0.5374 - acc: 0.7833 - f1_m: 0.7767 - precision_m: 0.8101 - recall_m: 0.746 - ETA: 1s - loss: 0.5376 - acc: 0.7832 - f1_m: 0.7764 - precision_m: 0.8099 - recall_m: 0.745 - ETA: 1s - loss: 0.5380 - acc: 0.7827 - f1_m: 0.7758 - precision_m: 0.8092 - recall_m: 0.745 - ETA: 1s - loss: 0.5381 - acc: 0.7826 - f1_m: 0.7760 - precision_m: 0.8092 - recall_m: 0.745 - ETA: 0s - loss: 0.5413 - acc: 0.7810 - f1_m: 0.7744 - precision_m: 0.8074 - recall_m: 0.744 - ETA: 0s - loss: 0.5407 - acc: 0.7817 - f1_m: 0.7750 - precision_m: 0.8078 - recall_m: 0.745 - ETA: 0s - loss: 0.5428 - acc: 0.7806 - f1_m: 0.7738 - precision_m: 0.8065 - recall_m: 0.743 - ETA: 0s - loss: 0.5431 - acc: 0.7806 - f1_m: 0.7740 - precision_m: 0.8063 - recall_m: 0.744 - ETA: 0s - loss: 0.5430 - acc: 0.7807 - f1_m: 0.7741 - precision_m: 0.8065 - recall_m: 0.744 - 13s 842us/step - loss: 0.5431 - acc: 0.7806 - f1_m: 0.7739 - precision_m: 0.8063 - recall_m: 0.7442\n",
      "\n",
      "Epoch 00009: loss improved from 0.59660 to 0.54311, saving model to lstm.hdf5\n",
      "Epoch 10/15\n"
     ]
    },
    {
     "name": "stdout",
     "output_type": "stream",
     "text": [
      "15131/15131 [==============================] - ETA: 11s - loss: 0.4596 - acc: 0.8242 - f1_m: 0.8252 - precision_m: 0.8602 - recall_m: 0.79 - ETA: 11s - loss: 0.4524 - acc: 0.8340 - f1_m: 0.8351 - precision_m: 0.8658 - recall_m: 0.80 - ETA: 11s - loss: 0.4657 - acc: 0.8216 - f1_m: 0.8237 - precision_m: 0.8586 - recall_m: 0.79 - ETA: 11s - loss: 0.5030 - acc: 0.7998 - f1_m: 0.7989 - precision_m: 0.8319 - recall_m: 0.76 - ETA: 11s - loss: 0.5065 - acc: 0.8000 - f1_m: 0.7974 - precision_m: 0.8301 - recall_m: 0.76 - ETA: 10s - loss: 0.5138 - acc: 0.7936 - f1_m: 0.7930 - precision_m: 0.8279 - recall_m: 0.76 - ETA: 10s - loss: 0.5062 - acc: 0.7991 - f1_m: 0.7964 - precision_m: 0.8299 - recall_m: 0.76 - ETA: 10s - loss: 0.5218 - acc: 0.7896 - f1_m: 0.7854 - precision_m: 0.8181 - recall_m: 0.75 - ETA: 10s - loss: 0.5157 - acc: 0.7904 - f1_m: 0.7871 - precision_m: 0.8199 - recall_m: 0.75 - ETA: 10s - loss: 0.5162 - acc: 0.7887 - f1_m: 0.7862 - precision_m: 0.8201 - recall_m: 0.75 - ETA: 10s - loss: 0.5168 - acc: 0.7884 - f1_m: 0.7864 - precision_m: 0.8203 - recall_m: 0.75 - ETA: 9s - loss: 0.5110 - acc: 0.7913 - f1_m: 0.7888 - precision_m: 0.8234 - recall_m: 0.7572 - ETA: 9s - loss: 0.5051 - acc: 0.7933 - f1_m: 0.7908 - precision_m: 0.8241 - recall_m: 0.760 - ETA: 9s - loss: 0.5049 - acc: 0.7938 - f1_m: 0.7918 - precision_m: 0.8245 - recall_m: 0.761 - ETA: 9s - loss: 0.5019 - acc: 0.7953 - f1_m: 0.7934 - precision_m: 0.8253 - recall_m: 0.764 - ETA: 9s - loss: 0.5043 - acc: 0.7947 - f1_m: 0.7921 - precision_m: 0.8230 - recall_m: 0.763 - ETA: 8s - loss: 0.5045 - acc: 0.7937 - f1_m: 0.7919 - precision_m: 0.8226 - recall_m: 0.763 - ETA: 8s - loss: 0.5031 - acc: 0.7954 - f1_m: 0.7935 - precision_m: 0.8234 - recall_m: 0.765 - ETA: 8s - loss: 0.5037 - acc: 0.7958 - f1_m: 0.7942 - precision_m: 0.8238 - recall_m: 0.766 - ETA: 8s - loss: 0.5084 - acc: 0.7947 - f1_m: 0.7926 - precision_m: 0.8216 - recall_m: 0.765 - ETA: 7s - loss: 0.5025 - acc: 0.7984 - f1_m: 0.7961 - precision_m: 0.8249 - recall_m: 0.769 - ETA: 7s - loss: 0.5021 - acc: 0.7987 - f1_m: 0.7957 - precision_m: 0.8248 - recall_m: 0.768 - ETA: 7s - loss: 0.5009 - acc: 0.8004 - f1_m: 0.7973 - precision_m: 0.8266 - recall_m: 0.770 - ETA: 7s - loss: 0.5013 - acc: 0.8009 - f1_m: 0.7968 - precision_m: 0.8263 - recall_m: 0.769 - ETA: 7s - loss: 0.5005 - acc: 0.8017 - f1_m: 0.7975 - precision_m: 0.8270 - recall_m: 0.770 - ETA: 6s - loss: 0.4990 - acc: 0.8024 - f1_m: 0.7977 - precision_m: 0.8270 - recall_m: 0.770 - ETA: 6s - loss: 0.4995 - acc: 0.8015 - f1_m: 0.7971 - precision_m: 0.8260 - recall_m: 0.770 - ETA: 6s - loss: 0.4971 - acc: 0.8033 - f1_m: 0.7990 - precision_m: 0.8277 - recall_m: 0.772 - ETA: 6s - loss: 0.4984 - acc: 0.8027 - f1_m: 0.7988 - precision_m: 0.8269 - recall_m: 0.772 - ETA: 6s - loss: 0.4978 - acc: 0.8025 - f1_m: 0.7986 - precision_m: 0.8265 - recall_m: 0.772 - ETA: 5s - loss: 0.4987 - acc: 0.8020 - f1_m: 0.7983 - precision_m: 0.8260 - recall_m: 0.772 - ETA: 5s - loss: 0.5005 - acc: 0.8005 - f1_m: 0.7973 - precision_m: 0.8249 - recall_m: 0.771 - ETA: 5s - loss: 0.5016 - acc: 0.7994 - f1_m: 0.7963 - precision_m: 0.8240 - recall_m: 0.770 - ETA: 5s - loss: 0.5010 - acc: 0.8001 - f1_m: 0.7961 - precision_m: 0.8243 - recall_m: 0.770 - ETA: 5s - loss: 0.4996 - acc: 0.8002 - f1_m: 0.7964 - precision_m: 0.8247 - recall_m: 0.770 - ETA: 4s - loss: 0.5005 - acc: 0.7993 - f1_m: 0.7957 - precision_m: 0.8238 - recall_m: 0.769 - ETA: 4s - loss: 0.5001 - acc: 0.7990 - f1_m: 0.7955 - precision_m: 0.8233 - recall_m: 0.769 - ETA: 4s - loss: 0.5020 - acc: 0.7984 - f1_m: 0.7949 - precision_m: 0.8230 - recall_m: 0.768 - ETA: 4s - loss: 0.5027 - acc: 0.7984 - f1_m: 0.7946 - precision_m: 0.8227 - recall_m: 0.768 - ETA: 4s - loss: 0.5041 - acc: 0.7979 - f1_m: 0.7942 - precision_m: 0.8224 - recall_m: 0.768 - ETA: 3s - loss: 0.5027 - acc: 0.7976 - f1_m: 0.7943 - precision_m: 0.8225 - recall_m: 0.768 - ETA: 3s - loss: 0.5043 - acc: 0.7972 - f1_m: 0.7938 - precision_m: 0.8219 - recall_m: 0.767 - ETA: 3s - loss: 0.5054 - acc: 0.7965 - f1_m: 0.7933 - precision_m: 0.8213 - recall_m: 0.767 - ETA: 3s - loss: 0.5048 - acc: 0.7966 - f1_m: 0.7935 - precision_m: 0.8216 - recall_m: 0.767 - ETA: 2s - loss: 0.5060 - acc: 0.7963 - f1_m: 0.7929 - precision_m: 0.8216 - recall_m: 0.766 - ETA: 2s - loss: 0.5073 - acc: 0.7956 - f1_m: 0.7924 - precision_m: 0.8214 - recall_m: 0.765 - ETA: 2s - loss: 0.5072 - acc: 0.7953 - f1_m: 0.7922 - precision_m: 0.8211 - recall_m: 0.765 - ETA: 2s - loss: 0.5071 - acc: 0.7950 - f1_m: 0.7921 - precision_m: 0.8212 - recall_m: 0.765 - ETA: 2s - loss: 0.5076 - acc: 0.7943 - f1_m: 0.7913 - precision_m: 0.8203 - recall_m: 0.764 - ETA: 1s - loss: 0.5098 - acc: 0.7937 - f1_m: 0.7907 - precision_m: 0.8197 - recall_m: 0.763 - ETA: 1s - loss: 0.5103 - acc: 0.7934 - f1_m: 0.7903 - precision_m: 0.8192 - recall_m: 0.763 - ETA: 1s - loss: 0.5087 - acc: 0.7939 - f1_m: 0.7906 - precision_m: 0.8198 - recall_m: 0.763 - ETA: 1s - loss: 0.5091 - acc: 0.7936 - f1_m: 0.7903 - precision_m: 0.8200 - recall_m: 0.762 - ETA: 1s - loss: 0.5080 - acc: 0.7943 - f1_m: 0.7908 - precision_m: 0.8205 - recall_m: 0.763 - ETA: 0s - loss: 0.5078 - acc: 0.7944 - f1_m: 0.7905 - precision_m: 0.8205 - recall_m: 0.762 - ETA: 0s - loss: 0.5085 - acc: 0.7937 - f1_m: 0.7897 - precision_m: 0.8197 - recall_m: 0.762 - ETA: 0s - loss: 0.5062 - acc: 0.7950 - f1_m: 0.7909 - precision_m: 0.8206 - recall_m: 0.763 - ETA: 0s - loss: 0.5066 - acc: 0.7942 - f1_m: 0.7903 - precision_m: 0.8200 - recall_m: 0.762 - ETA: 0s - loss: 0.5053 - acc: 0.7950 - f1_m: 0.7909 - precision_m: 0.8206 - recall_m: 0.763 - 13s 832us/step - loss: 0.5050 - acc: 0.7951 - f1_m: 0.7911 - precision_m: 0.8207 - recall_m: 0.7637\n",
      "\n",
      "Epoch 00010: loss improved from 0.54311 to 0.50498, saving model to lstm.hdf5\n",
      "Epoch 11/15\n"
     ]
    },
    {
     "name": "stdout",
     "output_type": "stream",
     "text": [
      "15131/15131 [==============================] - ETA: 11s - loss: 0.4795 - acc: 0.8164 - f1_m: 0.8144 - precision_m: 0.8327 - recall_m: 0.79 - ETA: 11s - loss: 0.4610 - acc: 0.8184 - f1_m: 0.8167 - precision_m: 0.8333 - recall_m: 0.80 - ETA: 11s - loss: 0.4378 - acc: 0.8372 - f1_m: 0.8362 - precision_m: 0.8514 - recall_m: 0.82 - ETA: 11s - loss: 0.4274 - acc: 0.8408 - f1_m: 0.8403 - precision_m: 0.8593 - recall_m: 0.82 - ETA: 10s - loss: 0.4226 - acc: 0.8406 - f1_m: 0.8394 - precision_m: 0.8587 - recall_m: 0.82 - ETA: 10s - loss: 0.4287 - acc: 0.8359 - f1_m: 0.8355 - precision_m: 0.8549 - recall_m: 0.81 - ETA: 10s - loss: 0.4202 - acc: 0.8398 - f1_m: 0.8373 - precision_m: 0.8569 - recall_m: 0.81 - ETA: 10s - loss: 0.4262 - acc: 0.8354 - f1_m: 0.8330 - precision_m: 0.8535 - recall_m: 0.81 - ETA: 10s - loss: 0.4305 - acc: 0.8338 - f1_m: 0.8311 - precision_m: 0.8536 - recall_m: 0.80 - ETA: 10s - loss: 0.4305 - acc: 0.8355 - f1_m: 0.8326 - precision_m: 0.8551 - recall_m: 0.81 - ETA: 9s - loss: 0.4275 - acc: 0.8370 - f1_m: 0.8344 - precision_m: 0.8564 - recall_m: 0.8136 - ETA: 9s - loss: 0.4262 - acc: 0.8376 - f1_m: 0.8351 - precision_m: 0.8566 - recall_m: 0.814 - ETA: 9s - loss: 0.4274 - acc: 0.8371 - f1_m: 0.8350 - precision_m: 0.8558 - recall_m: 0.815 - ETA: 9s - loss: 0.4251 - acc: 0.8382 - f1_m: 0.8357 - precision_m: 0.8562 - recall_m: 0.816 - ETA: 9s - loss: 0.4267 - acc: 0.8372 - f1_m: 0.8347 - precision_m: 0.8550 - recall_m: 0.815 - ETA: 8s - loss: 0.4243 - acc: 0.8389 - f1_m: 0.8363 - precision_m: 0.8564 - recall_m: 0.817 - ETA: 8s - loss: 0.4215 - acc: 0.8392 - f1_m: 0.8367 - precision_m: 0.8564 - recall_m: 0.818 - ETA: 8s - loss: 0.4199 - acc: 0.8398 - f1_m: 0.8371 - precision_m: 0.8567 - recall_m: 0.818 - ETA: 8s - loss: 0.4254 - acc: 0.8388 - f1_m: 0.8360 - precision_m: 0.8557 - recall_m: 0.817 - ETA: 8s - loss: 0.4257 - acc: 0.8393 - f1_m: 0.8364 - precision_m: 0.8557 - recall_m: 0.818 - ETA: 7s - loss: 0.4272 - acc: 0.8382 - f1_m: 0.8352 - precision_m: 0.8538 - recall_m: 0.817 - ETA: 7s - loss: 0.4252 - acc: 0.8400 - f1_m: 0.8370 - precision_m: 0.8557 - recall_m: 0.819 - ETA: 7s - loss: 0.4222 - acc: 0.8412 - f1_m: 0.8381 - precision_m: 0.8567 - recall_m: 0.820 - ETA: 7s - loss: 0.4196 - acc: 0.8420 - f1_m: 0.8390 - precision_m: 0.8579 - recall_m: 0.821 - ETA: 7s - loss: 0.4219 - acc: 0.8402 - f1_m: 0.8374 - precision_m: 0.8568 - recall_m: 0.818 - ETA: 6s - loss: 0.4249 - acc: 0.8383 - f1_m: 0.8360 - precision_m: 0.8558 - recall_m: 0.817 - ETA: 6s - loss: 0.4254 - acc: 0.8374 - f1_m: 0.8349 - precision_m: 0.8546 - recall_m: 0.816 - ETA: 6s - loss: 0.4276 - acc: 0.8357 - f1_m: 0.8333 - precision_m: 0.8531 - recall_m: 0.814 - ETA: 6s - loss: 0.4300 - acc: 0.8341 - f1_m: 0.8319 - precision_m: 0.8520 - recall_m: 0.812 - ETA: 6s - loss: 0.4329 - acc: 0.8328 - f1_m: 0.8308 - precision_m: 0.8510 - recall_m: 0.811 - ETA: 5s - loss: 0.4338 - acc: 0.8325 - f1_m: 0.8307 - precision_m: 0.8510 - recall_m: 0.811 - ETA: 5s - loss: 0.4341 - acc: 0.8324 - f1_m: 0.8303 - precision_m: 0.8510 - recall_m: 0.810 - ETA: 5s - loss: 0.4360 - acc: 0.8317 - f1_m: 0.8295 - precision_m: 0.8505 - recall_m: 0.809 - ETA: 5s - loss: 0.4377 - acc: 0.8307 - f1_m: 0.8284 - precision_m: 0.8493 - recall_m: 0.808 - ETA: 5s - loss: 0.4387 - acc: 0.8302 - f1_m: 0.8281 - precision_m: 0.8489 - recall_m: 0.808 - ETA: 4s - loss: 0.4379 - acc: 0.8306 - f1_m: 0.8282 - precision_m: 0.8489 - recall_m: 0.808 - ETA: 4s - loss: 0.4383 - acc: 0.8297 - f1_m: 0.8274 - precision_m: 0.8482 - recall_m: 0.807 - ETA: 4s - loss: 0.4437 - acc: 0.8276 - f1_m: 0.8252 - precision_m: 0.8458 - recall_m: 0.805 - ETA: 4s - loss: 0.4432 - acc: 0.8276 - f1_m: 0.8252 - precision_m: 0.8458 - recall_m: 0.805 - ETA: 4s - loss: 0.4452 - acc: 0.8262 - f1_m: 0.8237 - precision_m: 0.8443 - recall_m: 0.804 - ETA: 3s - loss: 0.4470 - acc: 0.8252 - f1_m: 0.8227 - precision_m: 0.8433 - recall_m: 0.803 - ETA: 3s - loss: 0.4480 - acc: 0.8242 - f1_m: 0.8218 - precision_m: 0.8424 - recall_m: 0.802 - ETA: 3s - loss: 0.4474 - acc: 0.8244 - f1_m: 0.8218 - precision_m: 0.8425 - recall_m: 0.802 - ETA: 3s - loss: 0.4491 - acc: 0.8240 - f1_m: 0.8213 - precision_m: 0.8418 - recall_m: 0.801 - ETA: 2s - loss: 0.4491 - acc: 0.8242 - f1_m: 0.8214 - precision_m: 0.8420 - recall_m: 0.801 - ETA: 2s - loss: 0.4497 - acc: 0.8237 - f1_m: 0.8211 - precision_m: 0.8420 - recall_m: 0.801 - ETA: 2s - loss: 0.4497 - acc: 0.8229 - f1_m: 0.8206 - precision_m: 0.8421 - recall_m: 0.800 - ETA: 2s - loss: 0.4504 - acc: 0.8221 - f1_m: 0.8200 - precision_m: 0.8418 - recall_m: 0.799 - ETA: 2s - loss: 0.4516 - acc: 0.8213 - f1_m: 0.8189 - precision_m: 0.8409 - recall_m: 0.798 - ETA: 1s - loss: 0.4535 - acc: 0.8202 - f1_m: 0.8177 - precision_m: 0.8398 - recall_m: 0.796 - ETA: 1s - loss: 0.4538 - acc: 0.8201 - f1_m: 0.8175 - precision_m: 0.8397 - recall_m: 0.796 - ETA: 1s - loss: 0.4557 - acc: 0.8187 - f1_m: 0.8163 - precision_m: 0.8387 - recall_m: 0.795 - ETA: 1s - loss: 0.4550 - acc: 0.8192 - f1_m: 0.8167 - precision_m: 0.8393 - recall_m: 0.795 - ETA: 1s - loss: 0.4558 - acc: 0.8189 - f1_m: 0.8164 - precision_m: 0.8390 - recall_m: 0.795 - ETA: 0s - loss: 0.4552 - acc: 0.8192 - f1_m: 0.8165 - precision_m: 0.8393 - recall_m: 0.795 - ETA: 0s - loss: 0.4576 - acc: 0.8179 - f1_m: 0.8152 - precision_m: 0.8378 - recall_m: 0.793 - ETA: 0s - loss: 0.4581 - acc: 0.8179 - f1_m: 0.8153 - precision_m: 0.8378 - recall_m: 0.794 - ETA: 0s - loss: 0.4583 - acc: 0.8182 - f1_m: 0.8154 - precision_m: 0.8380 - recall_m: 0.794 - ETA: 0s - loss: 0.4594 - acc: 0.8179 - f1_m: 0.8148 - precision_m: 0.8376 - recall_m: 0.793 - 13s 845us/step - loss: 0.4602 - acc: 0.8176 - f1_m: 0.8144 - precision_m: 0.8373 - recall_m: 0.7929\n",
      "\n",
      "Epoch 00011: loss improved from 0.50498 to 0.46024, saving model to lstm.hdf5\n",
      "Epoch 12/15\n"
     ]
    },
    {
     "name": "stdout",
     "output_type": "stream",
     "text": [
      "15131/15131 [==============================] - ETA: 12s - loss: 0.3475 - acc: 0.8828 - f1_m: 0.8687 - precision_m: 0.8996 - recall_m: 0.83 - ETA: 12s - loss: 0.3743 - acc: 0.8691 - f1_m: 0.8595 - precision_m: 0.8845 - recall_m: 0.83 - ETA: 11s - loss: 0.3985 - acc: 0.8568 - f1_m: 0.8477 - precision_m: 0.8711 - recall_m: 0.82 - ETA: 11s - loss: 0.4150 - acc: 0.8477 - f1_m: 0.8402 - precision_m: 0.8632 - recall_m: 0.81 - ETA: 11s - loss: 0.4137 - acc: 0.8477 - f1_m: 0.8394 - precision_m: 0.8638 - recall_m: 0.81 - ETA: 11s - loss: 0.4319 - acc: 0.8398 - f1_m: 0.8310 - precision_m: 0.8540 - recall_m: 0.80 - ETA: 11s - loss: 0.4273 - acc: 0.8365 - f1_m: 0.8308 - precision_m: 0.8537 - recall_m: 0.80 - ETA: 10s - loss: 0.4191 - acc: 0.8423 - f1_m: 0.8337 - precision_m: 0.8578 - recall_m: 0.81 - ETA: 10s - loss: 0.4290 - acc: 0.8364 - f1_m: 0.8298 - precision_m: 0.8532 - recall_m: 0.80 - ETA: 10s - loss: 0.4264 - acc: 0.8359 - f1_m: 0.8298 - precision_m: 0.8527 - recall_m: 0.80 - ETA: 10s - loss: 0.4205 - acc: 0.8391 - f1_m: 0.8323 - precision_m: 0.8547 - recall_m: 0.81 - ETA: 10s - loss: 0.4255 - acc: 0.8385 - f1_m: 0.8316 - precision_m: 0.8536 - recall_m: 0.81 - ETA: 9s - loss: 0.4263 - acc: 0.8365 - f1_m: 0.8302 - precision_m: 0.8515 - recall_m: 0.8101 - ETA: 9s - loss: 0.4230 - acc: 0.8387 - f1_m: 0.8322 - precision_m: 0.8536 - recall_m: 0.811 - ETA: 9s - loss: 0.4261 - acc: 0.8388 - f1_m: 0.8329 - precision_m: 0.8541 - recall_m: 0.812 - ETA: 9s - loss: 0.4261 - acc: 0.8389 - f1_m: 0.8332 - precision_m: 0.8543 - recall_m: 0.813 - ETA: 8s - loss: 0.4220 - acc: 0.8405 - f1_m: 0.8359 - precision_m: 0.8567 - recall_m: 0.816 - ETA: 8s - loss: 0.4259 - acc: 0.8372 - f1_m: 0.8327 - precision_m: 0.8541 - recall_m: 0.812 - ETA: 8s - loss: 0.4263 - acc: 0.8368 - f1_m: 0.8327 - precision_m: 0.8543 - recall_m: 0.812 - ETA: 8s - loss: 0.4228 - acc: 0.8371 - f1_m: 0.8338 - precision_m: 0.8556 - recall_m: 0.813 - ETA: 8s - loss: 0.4239 - acc: 0.8363 - f1_m: 0.8336 - precision_m: 0.8554 - recall_m: 0.812 - ETA: 7s - loss: 0.4222 - acc: 0.8374 - f1_m: 0.8344 - precision_m: 0.8558 - recall_m: 0.814 - ETA: 7s - loss: 0.4203 - acc: 0.8381 - f1_m: 0.8352 - precision_m: 0.8567 - recall_m: 0.814 - ETA: 7s - loss: 0.4182 - acc: 0.8390 - f1_m: 0.8366 - precision_m: 0.8579 - recall_m: 0.816 - ETA: 7s - loss: 0.4215 - acc: 0.8381 - f1_m: 0.8358 - precision_m: 0.8569 - recall_m: 0.815 - ETA: 7s - loss: 0.4224 - acc: 0.8380 - f1_m: 0.8361 - precision_m: 0.8569 - recall_m: 0.816 - ETA: 6s - loss: 0.4249 - acc: 0.8371 - f1_m: 0.8353 - precision_m: 0.8560 - recall_m: 0.815 - ETA: 6s - loss: 0.4247 - acc: 0.8362 - f1_m: 0.8346 - precision_m: 0.8555 - recall_m: 0.814 - ETA: 6s - loss: 0.4229 - acc: 0.8362 - f1_m: 0.8345 - precision_m: 0.8551 - recall_m: 0.814 - ETA: 6s - loss: 0.4271 - acc: 0.8346 - f1_m: 0.8330 - precision_m: 0.8533 - recall_m: 0.813 - ETA: 6s - loss: 0.4293 - acc: 0.8337 - f1_m: 0.8322 - precision_m: 0.8522 - recall_m: 0.813 - ETA: 5s - loss: 0.4263 - acc: 0.8353 - f1_m: 0.8336 - precision_m: 0.8534 - recall_m: 0.814 - ETA: 5s - loss: 0.4260 - acc: 0.8355 - f1_m: 0.8336 - precision_m: 0.8537 - recall_m: 0.814 - ETA: 5s - loss: 0.4257 - acc: 0.8357 - f1_m: 0.8335 - precision_m: 0.8539 - recall_m: 0.814 - ETA: 5s - loss: 0.4246 - acc: 0.8363 - f1_m: 0.8344 - precision_m: 0.8547 - recall_m: 0.815 - ETA: 4s - loss: 0.4234 - acc: 0.8367 - f1_m: 0.8350 - precision_m: 0.8553 - recall_m: 0.815 - ETA: 4s - loss: 0.4266 - acc: 0.8354 - f1_m: 0.8337 - precision_m: 0.8540 - recall_m: 0.814 - ETA: 4s - loss: 0.4266 - acc: 0.8346 - f1_m: 0.8331 - precision_m: 0.8535 - recall_m: 0.813 - ETA: 4s - loss: 0.4270 - acc: 0.8343 - f1_m: 0.8331 - precision_m: 0.8535 - recall_m: 0.813 - ETA: 4s - loss: 0.4263 - acc: 0.8340 - f1_m: 0.8330 - precision_m: 0.8533 - recall_m: 0.813 - ETA: 3s - loss: 0.4233 - acc: 0.8353 - f1_m: 0.8342 - precision_m: 0.8544 - recall_m: 0.815 - ETA: 3s - loss: 0.4243 - acc: 0.8357 - f1_m: 0.8344 - precision_m: 0.8547 - recall_m: 0.815 - ETA: 3s - loss: 0.4241 - acc: 0.8358 - f1_m: 0.8346 - precision_m: 0.8548 - recall_m: 0.815 - ETA: 3s - loss: 0.4254 - acc: 0.8345 - f1_m: 0.8333 - precision_m: 0.8533 - recall_m: 0.814 - ETA: 3s - loss: 0.4272 - acc: 0.8332 - f1_m: 0.8320 - precision_m: 0.8519 - recall_m: 0.813 - ETA: 2s - loss: 0.4273 - acc: 0.8331 - f1_m: 0.8320 - precision_m: 0.8517 - recall_m: 0.813 - ETA: 2s - loss: 0.4265 - acc: 0.8337 - f1_m: 0.8328 - precision_m: 0.8522 - recall_m: 0.814 - ETA: 2s - loss: 0.4260 - acc: 0.8341 - f1_m: 0.8332 - precision_m: 0.8526 - recall_m: 0.814 - ETA: 2s - loss: 0.4241 - acc: 0.8352 - f1_m: 0.8341 - precision_m: 0.8535 - recall_m: 0.815 - ETA: 1s - loss: 0.4219 - acc: 0.8360 - f1_m: 0.8350 - precision_m: 0.8543 - recall_m: 0.816 - ETA: 1s - loss: 0.4202 - acc: 0.8371 - f1_m: 0.8361 - precision_m: 0.8554 - recall_m: 0.817 - ETA: 1s - loss: 0.4196 - acc: 0.8374 - f1_m: 0.8363 - precision_m: 0.8556 - recall_m: 0.818 - ETA: 1s - loss: 0.4203 - acc: 0.8373 - f1_m: 0.8363 - precision_m: 0.8555 - recall_m: 0.818 - ETA: 1s - loss: 0.4216 - acc: 0.8365 - f1_m: 0.8354 - precision_m: 0.8545 - recall_m: 0.817 - ETA: 0s - loss: 0.4210 - acc: 0.8370 - f1_m: 0.8356 - precision_m: 0.8549 - recall_m: 0.817 - ETA: 0s - loss: 0.4220 - acc: 0.8366 - f1_m: 0.8350 - precision_m: 0.8544 - recall_m: 0.816 - ETA: 0s - loss: 0.4231 - acc: 0.8362 - f1_m: 0.8344 - precision_m: 0.8538 - recall_m: 0.816 - ETA: 0s - loss: 0.4237 - acc: 0.8356 - f1_m: 0.8339 - precision_m: 0.8534 - recall_m: 0.815 - ETA: 0s - loss: 0.4238 - acc: 0.8356 - f1_m: 0.8338 - precision_m: 0.8533 - recall_m: 0.815 - 13s 872us/step - loss: 0.4243 - acc: 0.8355 - f1_m: 0.8338 - precision_m: 0.8533 - recall_m: 0.8152\n",
      "\n",
      "Epoch 00012: loss improved from 0.46024 to 0.42430, saving model to lstm.hdf5\n",
      "Epoch 13/15\n"
     ]
    },
    {
     "name": "stdout",
     "output_type": "stream",
     "text": [
      "15131/15131 [==============================] - ETA: 12s - loss: 0.3389 - acc: 0.8672 - f1_m: 0.8703 - precision_m: 0.8898 - recall_m: 0.85 - ETA: 12s - loss: 0.4022 - acc: 0.8379 - f1_m: 0.8407 - precision_m: 0.8579 - recall_m: 0.82 - ETA: 12s - loss: 0.4219 - acc: 0.8281 - f1_m: 0.8252 - precision_m: 0.8455 - recall_m: 0.80 - ETA: 11s - loss: 0.4203 - acc: 0.8320 - f1_m: 0.8282 - precision_m: 0.8499 - recall_m: 0.80 - ETA: 11s - loss: 0.4004 - acc: 0.8445 - f1_m: 0.8394 - precision_m: 0.8604 - recall_m: 0.81 - ETA: 11s - loss: 0.4117 - acc: 0.8392 - f1_m: 0.8350 - precision_m: 0.8552 - recall_m: 0.81 - ETA: 11s - loss: 0.4272 - acc: 0.8259 - f1_m: 0.8227 - precision_m: 0.8422 - recall_m: 0.80 - ETA: 11s - loss: 0.4181 - acc: 0.8291 - f1_m: 0.8252 - precision_m: 0.8442 - recall_m: 0.80 - ETA: 10s - loss: 0.4224 - acc: 0.8281 - f1_m: 0.8251 - precision_m: 0.8432 - recall_m: 0.80 - ETA: 10s - loss: 0.4233 - acc: 0.8297 - f1_m: 0.8267 - precision_m: 0.8444 - recall_m: 0.80 - ETA: 10s - loss: 0.4214 - acc: 0.8306 - f1_m: 0.8273 - precision_m: 0.8455 - recall_m: 0.81 - ETA: 10s - loss: 0.4214 - acc: 0.8314 - f1_m: 0.8288 - precision_m: 0.8476 - recall_m: 0.81 - ETA: 10s - loss: 0.4268 - acc: 0.8281 - f1_m: 0.8247 - precision_m: 0.8456 - recall_m: 0.80 - ETA: 9s - loss: 0.4283 - acc: 0.8259 - f1_m: 0.8234 - precision_m: 0.8445 - recall_m: 0.8036 - ETA: 9s - loss: 0.4310 - acc: 0.8242 - f1_m: 0.8219 - precision_m: 0.8421 - recall_m: 0.802 - ETA: 9s - loss: 0.4305 - acc: 0.8262 - f1_m: 0.8238 - precision_m: 0.8433 - recall_m: 0.805 - ETA: 9s - loss: 0.4317 - acc: 0.8267 - f1_m: 0.8245 - precision_m: 0.8435 - recall_m: 0.806 - ETA: 9s - loss: 0.4303 - acc: 0.8273 - f1_m: 0.8255 - precision_m: 0.8445 - recall_m: 0.807 - ETA: 8s - loss: 0.4301 - acc: 0.8273 - f1_m: 0.8252 - precision_m: 0.8447 - recall_m: 0.806 - ETA: 8s - loss: 0.4274 - acc: 0.8295 - f1_m: 0.8278 - precision_m: 0.8479 - recall_m: 0.808 - ETA: 8s - loss: 0.4269 - acc: 0.8302 - f1_m: 0.8286 - precision_m: 0.8490 - recall_m: 0.809 - ETA: 8s - loss: 0.4224 - acc: 0.8320 - f1_m: 0.8305 - precision_m: 0.8515 - recall_m: 0.810 - ETA: 8s - loss: 0.4183 - acc: 0.8344 - f1_m: 0.8322 - precision_m: 0.8533 - recall_m: 0.812 - ETA: 7s - loss: 0.4180 - acc: 0.8340 - f1_m: 0.8320 - precision_m: 0.8527 - recall_m: 0.812 - ETA: 7s - loss: 0.4199 - acc: 0.8342 - f1_m: 0.8321 - precision_m: 0.8523 - recall_m: 0.813 - ETA: 7s - loss: 0.4190 - acc: 0.8341 - f1_m: 0.8316 - precision_m: 0.8518 - recall_m: 0.812 - ETA: 7s - loss: 0.4178 - acc: 0.8341 - f1_m: 0.8317 - precision_m: 0.8516 - recall_m: 0.812 - ETA: 6s - loss: 0.4173 - acc: 0.8348 - f1_m: 0.8324 - precision_m: 0.8524 - recall_m: 0.813 - ETA: 6s - loss: 0.4162 - acc: 0.8351 - f1_m: 0.8327 - precision_m: 0.8523 - recall_m: 0.814 - ETA: 6s - loss: 0.4152 - acc: 0.8352 - f1_m: 0.8328 - precision_m: 0.8522 - recall_m: 0.814 - ETA: 6s - loss: 0.4153 - acc: 0.8359 - f1_m: 0.8335 - precision_m: 0.8529 - recall_m: 0.815 - ETA: 6s - loss: 0.4143 - acc: 0.8365 - f1_m: 0.8341 - precision_m: 0.8531 - recall_m: 0.816 - ETA: 5s - loss: 0.4130 - acc: 0.8370 - f1_m: 0.8346 - precision_m: 0.8533 - recall_m: 0.816 - ETA: 5s - loss: 0.4127 - acc: 0.8372 - f1_m: 0.8349 - precision_m: 0.8537 - recall_m: 0.817 - ETA: 5s - loss: 0.4130 - acc: 0.8368 - f1_m: 0.8345 - precision_m: 0.8533 - recall_m: 0.816 - ETA: 5s - loss: 0.4109 - acc: 0.8387 - f1_m: 0.8363 - precision_m: 0.8549 - recall_m: 0.818 - ETA: 4s - loss: 0.4100 - acc: 0.8389 - f1_m: 0.8365 - precision_m: 0.8549 - recall_m: 0.818 - ETA: 4s - loss: 0.4100 - acc: 0.8386 - f1_m: 0.8364 - precision_m: 0.8550 - recall_m: 0.818 - ETA: 4s - loss: 0.4100 - acc: 0.8385 - f1_m: 0.8364 - precision_m: 0.8548 - recall_m: 0.819 - ETA: 4s - loss: 0.4101 - acc: 0.8384 - f1_m: 0.8363 - precision_m: 0.8549 - recall_m: 0.818 - ETA: 4s - loss: 0.4099 - acc: 0.8383 - f1_m: 0.8364 - precision_m: 0.8550 - recall_m: 0.818 - ETA: 3s - loss: 0.4097 - acc: 0.8380 - f1_m: 0.8361 - precision_m: 0.8550 - recall_m: 0.818 - ETA: 3s - loss: 0.4099 - acc: 0.8375 - f1_m: 0.8358 - precision_m: 0.8547 - recall_m: 0.817 - ETA: 3s - loss: 0.4105 - acc: 0.8375 - f1_m: 0.8359 - precision_m: 0.8551 - recall_m: 0.817 - ETA: 3s - loss: 0.4105 - acc: 0.8378 - f1_m: 0.8361 - precision_m: 0.8553 - recall_m: 0.817 - ETA: 2s - loss: 0.4104 - acc: 0.8381 - f1_m: 0.8364 - precision_m: 0.8557 - recall_m: 0.818 - ETA: 2s - loss: 0.4093 - acc: 0.8385 - f1_m: 0.8368 - precision_m: 0.8562 - recall_m: 0.818 - ETA: 2s - loss: 0.4087 - acc: 0.8389 - f1_m: 0.8371 - precision_m: 0.8567 - recall_m: 0.818 - ETA: 2s - loss: 0.4076 - acc: 0.8396 - f1_m: 0.8378 - precision_m: 0.8572 - recall_m: 0.819 - ETA: 2s - loss: 0.4067 - acc: 0.8402 - f1_m: 0.8382 - precision_m: 0.8577 - recall_m: 0.819 - ETA: 1s - loss: 0.4051 - acc: 0.8411 - f1_m: 0.8391 - precision_m: 0.8586 - recall_m: 0.820 - ETA: 1s - loss: 0.4048 - acc: 0.8414 - f1_m: 0.8394 - precision_m: 0.8590 - recall_m: 0.820 - ETA: 1s - loss: 0.4037 - acc: 0.8415 - f1_m: 0.8394 - precision_m: 0.8589 - recall_m: 0.820 - ETA: 1s - loss: 0.4029 - acc: 0.8421 - f1_m: 0.8401 - precision_m: 0.8595 - recall_m: 0.821 - ETA: 0s - loss: 0.4016 - acc: 0.8427 - f1_m: 0.8407 - precision_m: 0.8601 - recall_m: 0.822 - ETA: 0s - loss: 0.4011 - acc: 0.8430 - f1_m: 0.8410 - precision_m: 0.8603 - recall_m: 0.822 - ETA: 0s - loss: 0.3987 - acc: 0.8441 - f1_m: 0.8421 - precision_m: 0.8614 - recall_m: 0.823 - ETA: 0s - loss: 0.3984 - acc: 0.8446 - f1_m: 0.8426 - precision_m: 0.8621 - recall_m: 0.824 - ETA: 0s - loss: 0.3989 - acc: 0.8443 - f1_m: 0.8423 - precision_m: 0.8619 - recall_m: 0.823 - 14s 911us/step - loss: 0.3987 - acc: 0.8444 - f1_m: 0.8424 - precision_m: 0.8620 - recall_m: 0.8238\n",
      "\n",
      "Epoch 00013: loss improved from 0.42430 to 0.39874, saving model to lstm.hdf5\n",
      "Epoch 14/15\n"
     ]
    },
    {
     "name": "stdout",
     "output_type": "stream",
     "text": [
      "15131/15131 [==============================] - ETA: 13s - loss: 0.3521 - acc: 0.8281 - f1_m: 0.8307 - precision_m: 0.8373 - recall_m: 0.82 - ETA: 13s - loss: 0.3527 - acc: 0.8555 - f1_m: 0.8561 - precision_m: 0.8647 - recall_m: 0.84 - ETA: 12s - loss: 0.3083 - acc: 0.8789 - f1_m: 0.8805 - precision_m: 0.8875 - recall_m: 0.87 - ETA: 12s - loss: 0.3160 - acc: 0.8779 - f1_m: 0.8783 - precision_m: 0.8857 - recall_m: 0.87 - ETA: 12s - loss: 0.3231 - acc: 0.8758 - f1_m: 0.8739 - precision_m: 0.8815 - recall_m: 0.86 - ETA: 12s - loss: 0.3244 - acc: 0.8783 - f1_m: 0.8762 - precision_m: 0.8834 - recall_m: 0.86 - ETA: 11s - loss: 0.3344 - acc: 0.8733 - f1_m: 0.8721 - precision_m: 0.8800 - recall_m: 0.86 - ETA: 11s - loss: 0.3272 - acc: 0.8765 - f1_m: 0.8752 - precision_m: 0.8843 - recall_m: 0.86 - ETA: 11s - loss: 0.3334 - acc: 0.8728 - f1_m: 0.8717 - precision_m: 0.8811 - recall_m: 0.86 - ETA: 11s - loss: 0.3309 - acc: 0.8738 - f1_m: 0.8734 - precision_m: 0.8830 - recall_m: 0.86 - ETA: 11s - loss: 0.3283 - acc: 0.8746 - f1_m: 0.8738 - precision_m: 0.8835 - recall_m: 0.86 - ETA: 10s - loss: 0.3337 - acc: 0.8734 - f1_m: 0.8721 - precision_m: 0.8818 - recall_m: 0.86 - ETA: 10s - loss: 0.3287 - acc: 0.8762 - f1_m: 0.8751 - precision_m: 0.8851 - recall_m: 0.86 - ETA: 10s - loss: 0.3316 - acc: 0.8756 - f1_m: 0.8745 - precision_m: 0.8847 - recall_m: 0.86 - ETA: 10s - loss: 0.3319 - acc: 0.8763 - f1_m: 0.8751 - precision_m: 0.8856 - recall_m: 0.86 - ETA: 9s - loss: 0.3323 - acc: 0.8772 - f1_m: 0.8764 - precision_m: 0.8872 - recall_m: 0.8660 - ETA: 9s - loss: 0.3316 - acc: 0.8766 - f1_m: 0.8760 - precision_m: 0.8872 - recall_m: 0.865 - ETA: 9s - loss: 0.3301 - acc: 0.8774 - f1_m: 0.8768 - precision_m: 0.8879 - recall_m: 0.866 - ETA: 9s - loss: 0.3301 - acc: 0.8760 - f1_m: 0.8752 - precision_m: 0.8861 - recall_m: 0.864 - ETA: 8s - loss: 0.3317 - acc: 0.8756 - f1_m: 0.8749 - precision_m: 0.8859 - recall_m: 0.864 - ETA: 8s - loss: 0.3323 - acc: 0.8754 - f1_m: 0.8750 - precision_m: 0.8860 - recall_m: 0.864 - ETA: 8s - loss: 0.3358 - acc: 0.8738 - f1_m: 0.8734 - precision_m: 0.8846 - recall_m: 0.862 - ETA: 8s - loss: 0.3336 - acc: 0.8740 - f1_m: 0.8737 - precision_m: 0.8850 - recall_m: 0.862 - ETA: 7s - loss: 0.3315 - acc: 0.8748 - f1_m: 0.8746 - precision_m: 0.8861 - recall_m: 0.863 - ETA: 7s - loss: 0.3296 - acc: 0.8759 - f1_m: 0.8759 - precision_m: 0.8872 - recall_m: 0.864 - ETA: 7s - loss: 0.3325 - acc: 0.8752 - f1_m: 0.8751 - precision_m: 0.8867 - recall_m: 0.863 - ETA: 7s - loss: 0.3331 - acc: 0.8756 - f1_m: 0.8756 - precision_m: 0.8873 - recall_m: 0.864 - ETA: 7s - loss: 0.3337 - acc: 0.8750 - f1_m: 0.8752 - precision_m: 0.8873 - recall_m: 0.863 - ETA: 6s - loss: 0.3383 - acc: 0.8734 - f1_m: 0.8734 - precision_m: 0.8856 - recall_m: 0.861 - ETA: 6s - loss: 0.3376 - acc: 0.8729 - f1_m: 0.8730 - precision_m: 0.8854 - recall_m: 0.860 - ETA: 6s - loss: 0.3361 - acc: 0.8736 - f1_m: 0.8735 - precision_m: 0.8860 - recall_m: 0.861 - ETA: 6s - loss: 0.3384 - acc: 0.8717 - f1_m: 0.8716 - precision_m: 0.8842 - recall_m: 0.859 - ETA: 5s - loss: 0.3381 - acc: 0.8716 - f1_m: 0.8716 - precision_m: 0.8842 - recall_m: 0.859 - ETA: 5s - loss: 0.3379 - acc: 0.8720 - f1_m: 0.8721 - precision_m: 0.8848 - recall_m: 0.859 - ETA: 5s - loss: 0.3402 - acc: 0.8702 - f1_m: 0.8704 - precision_m: 0.8832 - recall_m: 0.857 - ETA: 5s - loss: 0.3417 - acc: 0.8700 - f1_m: 0.8700 - precision_m: 0.8830 - recall_m: 0.857 - ETA: 4s - loss: 0.3427 - acc: 0.8696 - f1_m: 0.8698 - precision_m: 0.8829 - recall_m: 0.857 - ETA: 4s - loss: 0.3430 - acc: 0.8696 - f1_m: 0.8697 - precision_m: 0.8830 - recall_m: 0.856 - ETA: 4s - loss: 0.3452 - acc: 0.8685 - f1_m: 0.8688 - precision_m: 0.8821 - recall_m: 0.855 - ETA: 4s - loss: 0.3483 - acc: 0.8673 - f1_m: 0.8673 - precision_m: 0.8808 - recall_m: 0.854 - ETA: 4s - loss: 0.3474 - acc: 0.8677 - f1_m: 0.8679 - precision_m: 0.8816 - recall_m: 0.854 - ETA: 3s - loss: 0.3483 - acc: 0.8675 - f1_m: 0.8675 - precision_m: 0.8813 - recall_m: 0.854 - ETA: 3s - loss: 0.3500 - acc: 0.8668 - f1_m: 0.8669 - precision_m: 0.8812 - recall_m: 0.853 - ETA: 3s - loss: 0.3498 - acc: 0.8672 - f1_m: 0.8672 - precision_m: 0.8815 - recall_m: 0.853 - ETA: 3s - loss: 0.3507 - acc: 0.8673 - f1_m: 0.8674 - precision_m: 0.8817 - recall_m: 0.853 - ETA: 2s - loss: 0.3498 - acc: 0.8675 - f1_m: 0.8675 - precision_m: 0.8819 - recall_m: 0.853 - ETA: 2s - loss: 0.3493 - acc: 0.8679 - f1_m: 0.8680 - precision_m: 0.8825 - recall_m: 0.854 - ETA: 2s - loss: 0.3514 - acc: 0.8669 - f1_m: 0.8670 - precision_m: 0.8814 - recall_m: 0.853 - ETA: 2s - loss: 0.3524 - acc: 0.8663 - f1_m: 0.8664 - precision_m: 0.8809 - recall_m: 0.852 - ETA: 2s - loss: 0.3536 - acc: 0.8659 - f1_m: 0.8659 - precision_m: 0.8805 - recall_m: 0.851 - ETA: 1s - loss: 0.3532 - acc: 0.8660 - f1_m: 0.8658 - precision_m: 0.8805 - recall_m: 0.851 - ETA: 1s - loss: 0.3542 - acc: 0.8649 - f1_m: 0.8647 - precision_m: 0.8798 - recall_m: 0.850 - ETA: 1s - loss: 0.3548 - acc: 0.8649 - f1_m: 0.8647 - precision_m: 0.8800 - recall_m: 0.849 - ETA: 1s - loss: 0.3537 - acc: 0.8653 - f1_m: 0.8650 - precision_m: 0.8806 - recall_m: 0.850 - ETA: 0s - loss: 0.3547 - acc: 0.8650 - f1_m: 0.8645 - precision_m: 0.8803 - recall_m: 0.849 - ETA: 0s - loss: 0.3544 - acc: 0.8650 - f1_m: 0.8647 - precision_m: 0.8806 - recall_m: 0.849 - ETA: 0s - loss: 0.3540 - acc: 0.8655 - f1_m: 0.8652 - precision_m: 0.8811 - recall_m: 0.850 - ETA: 0s - loss: 0.3536 - acc: 0.8656 - f1_m: 0.8653 - precision_m: 0.8811 - recall_m: 0.850 - ETA: 0s - loss: 0.3528 - acc: 0.8660 - f1_m: 0.8655 - precision_m: 0.8814 - recall_m: 0.850 - 13s 861us/step - loss: 0.3528 - acc: 0.8660 - f1_m: 0.8655 - precision_m: 0.8814 - recall_m: 0.8502\n",
      "\n",
      "Epoch 00014: loss improved from 0.39874 to 0.35282, saving model to lstm.hdf5\n",
      "Epoch 15/15\n"
     ]
    },
    {
     "name": "stdout",
     "output_type": "stream",
     "text": [
      "15131/15131 [==============================] - ETA: 11s - loss: 0.3098 - acc: 0.8906 - f1_m: 0.8871 - precision_m: 0.8996 - recall_m: 0.87 - ETA: 11s - loss: 0.3137 - acc: 0.8926 - f1_m: 0.8911 - precision_m: 0.9036 - recall_m: 0.87 - ETA: 11s - loss: 0.3152 - acc: 0.8984 - f1_m: 0.8942 - precision_m: 0.9086 - recall_m: 0.88 - ETA: 11s - loss: 0.3028 - acc: 0.9014 - f1_m: 0.8974 - precision_m: 0.9114 - recall_m: 0.88 - ETA: 11s - loss: 0.3168 - acc: 0.8914 - f1_m: 0.8877 - precision_m: 0.9042 - recall_m: 0.87 - ETA: 11s - loss: 0.3304 - acc: 0.8861 - f1_m: 0.8822 - precision_m: 0.8986 - recall_m: 0.86 - ETA: 10s - loss: 0.3452 - acc: 0.8800 - f1_m: 0.8756 - precision_m: 0.8926 - recall_m: 0.85 - ETA: 10s - loss: 0.3374 - acc: 0.8843 - f1_m: 0.8813 - precision_m: 0.8975 - recall_m: 0.86 - ETA: 10s - loss: 0.3334 - acc: 0.8850 - f1_m: 0.8816 - precision_m: 0.8970 - recall_m: 0.86 - ETA: 10s - loss: 0.3286 - acc: 0.8859 - f1_m: 0.8826 - precision_m: 0.8967 - recall_m: 0.86 - ETA: 10s - loss: 0.3231 - acc: 0.8871 - f1_m: 0.8849 - precision_m: 0.8985 - recall_m: 0.87 - ETA: 9s - loss: 0.3187 - acc: 0.8877 - f1_m: 0.8866 - precision_m: 0.8999 - recall_m: 0.8737 - ETA: 9s - loss: 0.3142 - acc: 0.8900 - f1_m: 0.8886 - precision_m: 0.9015 - recall_m: 0.876 - ETA: 9s - loss: 0.3153 - acc: 0.8881 - f1_m: 0.8870 - precision_m: 0.8995 - recall_m: 0.875 - ETA: 9s - loss: 0.3120 - acc: 0.8904 - f1_m: 0.8890 - precision_m: 0.9014 - recall_m: 0.877 - ETA: 9s - loss: 0.3117 - acc: 0.8904 - f1_m: 0.8888 - precision_m: 0.9010 - recall_m: 0.877 - ETA: 8s - loss: 0.3077 - acc: 0.8915 - f1_m: 0.8900 - precision_m: 0.9022 - recall_m: 0.878 - ETA: 8s - loss: 0.3047 - acc: 0.8924 - f1_m: 0.8906 - precision_m: 0.9031 - recall_m: 0.878 - ETA: 8s - loss: 0.3029 - acc: 0.8927 - f1_m: 0.8909 - precision_m: 0.9035 - recall_m: 0.878 - ETA: 8s - loss: 0.3045 - acc: 0.8920 - f1_m: 0.8901 - precision_m: 0.9026 - recall_m: 0.878 - ETA: 8s - loss: 0.3028 - acc: 0.8921 - f1_m: 0.8907 - precision_m: 0.9030 - recall_m: 0.878 - ETA: 7s - loss: 0.3041 - acc: 0.8919 - f1_m: 0.8904 - precision_m: 0.9027 - recall_m: 0.878 - ETA: 7s - loss: 0.3024 - acc: 0.8918 - f1_m: 0.8905 - precision_m: 0.9024 - recall_m: 0.878 - ETA: 7s - loss: 0.3055 - acc: 0.8905 - f1_m: 0.8892 - precision_m: 0.9010 - recall_m: 0.877 - ETA: 7s - loss: 0.3045 - acc: 0.8906 - f1_m: 0.8895 - precision_m: 0.9013 - recall_m: 0.878 - ETA: 6s - loss: 0.3039 - acc: 0.8912 - f1_m: 0.8900 - precision_m: 0.9016 - recall_m: 0.878 - ETA: 6s - loss: 0.3049 - acc: 0.8909 - f1_m: 0.8897 - precision_m: 0.9011 - recall_m: 0.878 - ETA: 6s - loss: 0.3053 - acc: 0.8908 - f1_m: 0.8895 - precision_m: 0.9009 - recall_m: 0.878 - ETA: 6s - loss: 0.3054 - acc: 0.8910 - f1_m: 0.8900 - precision_m: 0.9013 - recall_m: 0.879 - ETA: 6s - loss: 0.3061 - acc: 0.8904 - f1_m: 0.8895 - precision_m: 0.9007 - recall_m: 0.878 - ETA: 5s - loss: 0.3058 - acc: 0.8905 - f1_m: 0.8897 - precision_m: 0.9009 - recall_m: 0.878 - ETA: 5s - loss: 0.3070 - acc: 0.8899 - f1_m: 0.8889 - precision_m: 0.9000 - recall_m: 0.878 - ETA: 5s - loss: 0.3064 - acc: 0.8898 - f1_m: 0.8887 - precision_m: 0.8999 - recall_m: 0.877 - ETA: 5s - loss: 0.3043 - acc: 0.8904 - f1_m: 0.8894 - precision_m: 0.9005 - recall_m: 0.878 - ETA: 5s - loss: 0.3049 - acc: 0.8901 - f1_m: 0.8888 - precision_m: 0.9000 - recall_m: 0.877 - ETA: 4s - loss: 0.3042 - acc: 0.8903 - f1_m: 0.8885 - precision_m: 0.9002 - recall_m: 0.877 - ETA: 4s - loss: 0.3045 - acc: 0.8903 - f1_m: 0.8886 - precision_m: 0.9003 - recall_m: 0.877 - ETA: 4s - loss: 0.3048 - acc: 0.8898 - f1_m: 0.8884 - precision_m: 0.9002 - recall_m: 0.877 - ETA: 4s - loss: 0.3056 - acc: 0.8890 - f1_m: 0.8876 - precision_m: 0.8993 - recall_m: 0.876 - ETA: 4s - loss: 0.3037 - acc: 0.8896 - f1_m: 0.8882 - precision_m: 0.9000 - recall_m: 0.876 - ETA: 3s - loss: 0.3051 - acc: 0.8888 - f1_m: 0.8875 - precision_m: 0.8993 - recall_m: 0.876 - ETA: 3s - loss: 0.3044 - acc: 0.8886 - f1_m: 0.8874 - precision_m: 0.8992 - recall_m: 0.875 - ETA: 3s - loss: 0.3043 - acc: 0.8887 - f1_m: 0.8876 - precision_m: 0.8995 - recall_m: 0.876 - ETA: 3s - loss: 0.3036 - acc: 0.8895 - f1_m: 0.8882 - precision_m: 0.9002 - recall_m: 0.876 - ETA: 2s - loss: 0.3044 - acc: 0.8887 - f1_m: 0.8876 - precision_m: 0.8996 - recall_m: 0.876 - ETA: 2s - loss: 0.3032 - acc: 0.8891 - f1_m: 0.8881 - precision_m: 0.9002 - recall_m: 0.876 - ETA: 2s - loss: 0.3027 - acc: 0.8891 - f1_m: 0.8881 - precision_m: 0.9003 - recall_m: 0.876 - ETA: 2s - loss: 0.3034 - acc: 0.8887 - f1_m: 0.8877 - precision_m: 0.9000 - recall_m: 0.875 - ETA: 2s - loss: 0.3031 - acc: 0.8888 - f1_m: 0.8879 - precision_m: 0.9002 - recall_m: 0.876 - ETA: 1s - loss: 0.3033 - acc: 0.8888 - f1_m: 0.8879 - precision_m: 0.9002 - recall_m: 0.876 - ETA: 1s - loss: 0.3045 - acc: 0.8883 - f1_m: 0.8875 - precision_m: 0.8997 - recall_m: 0.875 - ETA: 1s - loss: 0.3058 - acc: 0.8881 - f1_m: 0.8873 - precision_m: 0.8995 - recall_m: 0.875 - ETA: 1s - loss: 0.3056 - acc: 0.8880 - f1_m: 0.8872 - precision_m: 0.8993 - recall_m: 0.875 - ETA: 1s - loss: 0.3067 - acc: 0.8874 - f1_m: 0.8866 - precision_m: 0.8986 - recall_m: 0.875 - ETA: 0s - loss: 0.3062 - acc: 0.8877 - f1_m: 0.8869 - precision_m: 0.8989 - recall_m: 0.875 - ETA: 0s - loss: 0.3070 - acc: 0.8874 - f1_m: 0.8867 - precision_m: 0.8986 - recall_m: 0.875 - ETA: 0s - loss: 0.3084 - acc: 0.8869 - f1_m: 0.8861 - precision_m: 0.8981 - recall_m: 0.874 - ETA: 0s - loss: 0.3082 - acc: 0.8871 - f1_m: 0.8864 - precision_m: 0.8984 - recall_m: 0.874 - ETA: 0s - loss: 0.3085 - acc: 0.8874 - f1_m: 0.8866 - precision_m: 0.8987 - recall_m: 0.874 - 13s 835us/step - loss: 0.3082 - acc: 0.8875 - f1_m: 0.8867 - precision_m: 0.8988 - recall_m: 0.8750\n",
      "\n",
      "Epoch 00015: loss improved from 0.35282 to 0.30822, saving model to lstm.hdf5\n"
     ]
    }
   ],
   "source": [
    "def recall_m(y_true, y_pred):\n",
    "        true_positives = K.sum(K.round(K.clip(y_true * y_pred, 0, 1)))\n",
    "        possible_positives = K.sum(K.round(K.clip(y_true, 0, 1)))\n",
    "        recall = true_positives / (possible_positives + K.epsilon())\n",
    "        return recall\n",
    "\n",
    "def precision_m(y_true, y_pred):\n",
    "        true_positives = K.sum(K.round(K.clip(y_true * y_pred, 0, 1)))\n",
    "        predicted_positives = K.sum(K.round(K.clip(y_pred, 0, 1)))\n",
    "        precision = true_positives / (predicted_positives + K.epsilon())\n",
    "        return precision\n",
    "\n",
    "def f1_m(y_true, y_pred):\n",
    "    precision = precision_m(y_true, y_pred)\n",
    "    recall = recall_m(y_true, y_pred)\n",
    "    return 2*((precision*recall)/(precision+recall+K.epsilon()))\n",
    "\n",
    "def LSTM_model():\n",
    "    model = Sequential()\n",
    "    model.add(Bidirectional(LSTM(50,input_shape=(31,3072),return_sequences=1)))\n",
    "    model.add(Dropout(0.2))\n",
    "    #model.add(SeqSelfAttention(attention_width=15,attention_activation='sigmoid'))\n",
    "    #model.add(Dense(3, activation='softmax'))\n",
    "    model.add(GRU(20))\n",
    "    model.add(Dropout(0.2))\n",
    "#     model.add(LSTM(100,return_sequences=1))\n",
    "#     model.add(Dropout(0.2))\n",
    "#     model.add(LSTM(200))\n",
    "#     model.add(Dropout(0.2))\n",
    "#     model.add(Flatten())\n",
    "    model.add(Dense(3, activation='softmax'))\n",
    "    model.compile(loss='categorical_crossentropy', optimizer='adam',metrics=['acc',f1_m,precision_m, recall_m])\n",
    "    #print(model.summary())\n",
    "    filepath=\"lstm.hdf5\"\n",
    "    checkpoint = ModelCheckpoint(filepath, monitor='loss', verbose=1, save_best_only=True, mode='min')\n",
    "    callbacks_list = [checkpoint]\n",
    "    model.fit(X_train.numpy(), Y_train, epochs=15, batch_size=256,callbacks=callbacks_list)\n",
    "    return model\n",
    "model=LSTM_model()"
   ]
  },
  {
   "cell_type": "code",
   "execution_count": 10,
   "metadata": {},
   "outputs": [],
   "source": [
    "loss, accuracy, f1_score, precision, recall = model.evaluate(X_test, Y_test, verbose=0)"
   ]
  },
  {
   "cell_type": "code",
   "execution_count": 11,
   "metadata": {},
   "outputs": [
    {
     "data": {
      "text/plain": [
       "(0.5163188872967511, 0.5129973308296367, 0.5214308757970778)"
      ]
     },
     "execution_count": 11,
     "metadata": {},
     "output_type": "execute_result"
    }
   ],
   "source": [
    "accuracy, f1_score, precision"
   ]
  },
  {
   "cell_type": "code",
   "execution_count": 14,
   "metadata": {},
   "outputs": [
    {
     "name": "stdout",
     "output_type": "stream",
     "text": [
      "Predicted  negative  neutral  positive\n",
      "Actual                                \n",
      "negative        244      209        80\n",
      "neutral         160      369       225\n",
      "positive         69      161       352\n",
      "\n",
      "\n",
      "Accuracy:  0.516318887105404\n",
      "\n",
      " Report:\n",
      "              precision    recall  f1-score   support\n",
      "\n",
      "    negative       0.52      0.46      0.49       533\n",
      "     neutral       0.50      0.49      0.49       754\n",
      "    positive       0.54      0.60      0.57       582\n",
      "\n",
      "    accuracy                           0.52      1869\n",
      "   macro avg       0.52      0.52      0.52      1869\n",
      "weighted avg       0.52      0.52      0.51      1869\n",
      "\n"
     ]
    }
   ],
   "source": [
    "y_dct = {'negative':0, \"neutral\":1,\"positive\":2}\n",
    "y_test_int = []\n",
    "for i in range(len(Y_test)):\n",
    "      y_test_int.append(list(Y_test[i]).index(1))\n",
    "from sklearn.metrics import classification_report as clf\n",
    "from sklearn.metrics import accuracy_score\n",
    "from sklearn.metrics import confusion_matrix\n",
    "import pandas as pd\n",
    "\n",
    "target_names=['negative','neutral','positive']\n",
    "\n",
    "df_cm = pd.DataFrame(confusion_matrix(y_test_int, y_pred), columns=target_names, index=target_names)\n",
    "df_cm.index.name = 'Actual'\n",
    "df_cm.columns.name = 'Predicted'\n",
    "print(df_cm)\n",
    "print(\"\\n\")\n",
    "print(\"Accuracy: \",accuracy_score(y_test_int, y_pred))\n",
    "print(\"\\n\",\"Report:\")\n",
    "print(clf(y_test_int, y_pred, target_names=target_names))"
   ]
  }
 ],
 "metadata": {
  "kernelspec": {
   "display_name": "Python 3",
   "language": "python",
   "name": "python3"
  },
  "language_info": {
   "codemirror_mode": {
    "name": "ipython",
    "version": 3
   },
   "file_extension": ".py",
   "mimetype": "text/x-python",
   "name": "python",
   "nbconvert_exporter": "python",
   "pygments_lexer": "ipython3",
   "version": "3.6.9"
  }
 },
 "nbformat": 4,
 "nbformat_minor": 2
}
